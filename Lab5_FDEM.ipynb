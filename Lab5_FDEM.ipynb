{
 "cells": [
  {
   "cell_type": "markdown",
   "metadata": {},
   "source": [
    "# Understanding frequency-domain EM with an inductive source"
   ]
  },
  {
   "cell_type": "markdown",
   "metadata": {},
   "source": [
    "In this lab exercise, we focus on frequency-domain EM with an inductive source such as a vertical magnetic dipole. The objective of this lab exercise is to help students develop a better understanding of frequency-domain EM, with the help of the interactive apps that allow students to adjust model and survey parameters and simulate EM fields and fluxes. <br>\n",
    "\n",
    "After finishing this exercise, students will understand <br>\n",
    "* How the currents distribute in a homogenous halfspace;\n",
    "* How the frequecy affects the distribution of currents;\n",
    "* How the background conductivity affect the distribution of currents;\n",
    "* How varying the conductivity of a layer affects the currents;\n",
    "* How a near-surface layer affects the detection of a deep conductor.\n",
    "\n",
    "Author: Jiajia Sun at University of Houston, October 23rd, 2018."
   ]
  },
  {
   "cell_type": "markdown",
   "metadata": {},
   "source": [
    "## 1. Install dependent packages"
   ]
  },
  {
   "cell_type": "code",
   "execution_count": 7,
   "metadata": {},
   "outputs": [
    {
     "name": "stdout",
     "output_type": "stream",
     "text": [
      "Requirement already satisfied: numpy in c:\\program files\\anaconda3\\lib\\site-packages (from -r ./requirements.txt (line 1)) (1.12.1)\n",
      "Requirement already satisfied: scipy in c:\\program files\\anaconda3\\lib\\site-packages (from -r ./requirements.txt (line 2)) (0.19.0)\n",
      "Requirement already satisfied: matplotlib in c:\\program files\\anaconda3\\lib\\site-packages (from -r ./requirements.txt (line 3)) (2.0.2)\n",
      "Requirement already satisfied: Pillow in c:\\program files\\anaconda3\\lib\\site-packages (from -r ./requirements.txt (line 4)) (4.1.1)\n",
      "Requirement already satisfied: ipywidgets>=0.6.0 in c:\\program files\\anaconda3\\lib\\site-packages (from -r ./requirements.txt (line 5)) (6.0.0)\n",
      "Requirement already satisfied: requests in c:\\program files\\anaconda3\\lib\\site-packages (from -r ./requirements.txt (line 6)) (2.14.2)\n",
      "Requirement already satisfied: SimPEG in c:\\users\\jsun29\\appdata\\roaming\\python\\python36\\site-packages (from -r ./requirements.txt (line 7)) (0.9.2)\n",
      "Requirement already satisfied: em_examples in c:\\users\\jsun29\\appdata\\roaming\\python\\python36\\site-packages (from -r ./requirements.txt (line 8)) (0.0.30)\n",
      "Requirement already satisfied: empymod in c:\\users\\jsun29\\appdata\\roaming\\python\\python36\\site-packages (from -r ./requirements.txt (line 9)) (1.7.3)\n",
      "Requirement already satisfied: deepdish in c:\\users\\jsun29\\appdata\\roaming\\python\\python36\\site-packages (from -r ./requirements.txt (line 10)) (0.3.6)\n",
      "Requirement already satisfied: pymatsolver>=0.1.2 in c:\\users\\jsun29\\appdata\\roaming\\python\\python36\\site-packages (from -r ./requirements.txt (line 11)) (0.1.2)\n",
      "Requirement already satisfied: six>=1.10 in c:\\program files\\anaconda3\\lib\\site-packages (from matplotlib->-r ./requirements.txt (line 3)) (1.10.0)\n",
      "Requirement already satisfied: python-dateutil in c:\\program files\\anaconda3\\lib\\site-packages (from matplotlib->-r ./requirements.txt (line 3)) (2.6.0)\n",
      "Requirement already satisfied: pytz in c:\\program files\\anaconda3\\lib\\site-packages (from matplotlib->-r ./requirements.txt (line 3)) (2017.2)\n",
      "Requirement already satisfied: cycler>=0.10 in c:\\program files\\anaconda3\\lib\\site-packages (from matplotlib->-r ./requirements.txt (line 3)) (0.10.0)\n",
      "Requirement already satisfied: pyparsing!=2.0.4,!=2.1.2,!=2.1.6,>=1.5.6 in c:\\program files\\anaconda3\\lib\\site-packages (from matplotlib->-r ./requirements.txt (line 3)) (2.1.4)\n",
      "Requirement already satisfied: olefile in c:\\program files\\anaconda3\\lib\\site-packages (from Pillow->-r ./requirements.txt (line 4)) (0.44)\n",
      "Requirement already satisfied: cython in c:\\program files\\anaconda3\\lib\\site-packages (from SimPEG->-r ./requirements.txt (line 7)) (0.25.2)\n",
      "Requirement already satisfied: vectormath>=0.2.0 in c:\\users\\jsun29\\appdata\\roaming\\python\\python36\\site-packages (from SimPEG->-r ./requirements.txt (line 7)) (0.2.0)\n",
      "Requirement already satisfied: properties>=0.5.2 in c:\\users\\jsun29\\appdata\\roaming\\python\\python36\\site-packages (from SimPEG->-r ./requirements.txt (line 7)) (0.5.3)\n",
      "Requirement already satisfied: discretize>=0.2.0 in c:\\users\\jsun29\\appdata\\roaming\\python\\python36\\site-packages (from SimPEG->-r ./requirements.txt (line 7)) (0.3.2)\n",
      "Requirement already satisfied: ipython in c:\\program files\\anaconda3\\lib\\site-packages (from SimPEG->-r ./requirements.txt (line 7)) (5.3.0)\n",
      "Requirement already satisfied: geoana>=0.0.4 in c:\\users\\jsun29\\appdata\\roaming\\python\\python36\\site-packages (from SimPEG->-r ./requirements.txt (line 7)) (0.0.5)\n",
      "Requirement already satisfied: jupyter in c:\\program files\\anaconda3\\lib\\site-packages (from em_examples->-r ./requirements.txt (line 8)) (1.0.0)\n",
      "Requirement already satisfied: future in c:\\users\\jsun29\\appdata\\roaming\\python\\python36\\site-packages (from em_examples->-r ./requirements.txt (line 8)) (0.16.0)\n",
      "Requirement already satisfied: tables in c:\\program files\\anaconda3\\lib\\site-packages (from deepdish->-r ./requirements.txt (line 10)) (3.2.2)\n",
      "Requirement already satisfied: pyMKL>=0.0.3 in c:\\users\\jsun29\\appdata\\roaming\\python\\python36\\site-packages (from pymatsolver>=0.1.2->-r ./requirements.txt (line 11)) (0.0.3)\n",
      "Requirement already satisfied: utm in c:\\users\\jsun29\\appdata\\roaming\\python\\python36\\site-packages (from geoana>=0.0.4->SimPEG->-r ./requirements.txt (line 7)) (0.4.2)\n",
      "Requirement already satisfied: numexpr>=2.4 in c:\\program files\\anaconda3\\lib\\site-packages (from tables->deepdish->-r ./requirements.txt (line 10)) (2.6.2)\n"
     ]
    },
    {
     "name": "stderr",
     "output_type": "stream",
     "text": [
      "You are using pip version 18.0, however version 18.1 is available.\n",
      "You should consider upgrading via the 'python -m pip install --upgrade pip' command.\n"
     ]
    }
   ],
   "source": [
    "!pip install -r ./requirements.txt"
   ]
  },
  {
   "cell_type": "code",
   "execution_count": 8,
   "metadata": {},
   "outputs": [
    {
     "name": "stdout",
     "output_type": "stream",
     "text": [
      "Populating the interactive namespace from numpy and matplotlib\n"
     ]
    }
   ],
   "source": [
    "%pylab inline\n",
    "from IPython.display import display\n",
    "from em_examples.HarmonicVMDCylWidget import HarmonicVMDCylWidget\n",
    "vmd = HarmonicVMDCylWidget()"
   ]
  },
  {
   "cell_type": "code",
   "execution_count": 9,
   "metadata": {
    "collapsed": true
   },
   "outputs": [],
   "source": [
    "from matplotlib import rcParams\n",
    "rcParams['font.size'] = 16"
   ]
  },
  {
   "cell_type": "markdown",
   "metadata": {},
   "source": [
    "## 2. Horizontal Current Loop over a Layered Earth (frequency domain)"
   ]
  },
  {
   "cell_type": "markdown",
   "metadata": {},
   "source": [
    "## Setup\n",
    "\n",
    "The geological scenario being modeled is shown in the figure below. Here, we assume the Earth is comprised of 3 layers. Each layer can have a different electrical conductivity ($\\sigma$). However, a constant magnetic susceptibility ($\\chi$) is used for all layers; where $\\mu_0$ is the magnetic permeability of free space and $\\mu = \\mu_0 (1 +\\chi)$. The thicknesses of the top two layers are given by $h_1$ and $h_2$, respectively.\n",
    "\n",
    "For the time domain EM experiment in this lab, a transient VMD (i.e., vertical magnetic dipole) source (*Tx*) is used to excite the Earth, and the Earth's TEM response (secondary magnetic field) is measured by a receiver (*Rx*). In practice, the transmitter and receiver may be placed near the Earth's surface or in the air. The receiver measures secondary fields at a variety of times after the source is shut off.\n",
    "\n",
    "<img src=\"https://github.com/geoscixyz/em_apps/blob/master/images/LayeredEarthTEM.png?raw=true\"></img>\n"
   ]
  },
  {
   "cell_type": "markdown",
   "metadata": {},
   "source": [
    "## Interactive app\n",
    "\n",
    "We use this app to simulate the fields and currents everywhere due to a harmonic VMD source. The fields and induced currents depend on the frequency of the harmonic VMD source and the subsurface conductivity distribution. You will use the app to change various parameters in the model and see how the fields and currents change.\n",
    "\n",
    "## Parameters:\n",
    "\n",
    "- **Field:** Type of EM fields (\"E\": electric field, \"B\": total magnetic flux density, \"Bsec\": secondary magnetic flux density, \"J\": current density and \"Model\": conductivity model)\n",
    "- **AmpDir:** If *None* is selected, then the *x*, *y* or *z* component chosen on the next line is plotted. If *Direction* is chosen, a vector plot is plotted (only possible for B and Bsec)\n",
    "- **Comp.:** If *None* is selected on the previous line, the user chooses whether the *x*, *y* or *z* component is plotted.     \n",
    "- **Re/Im:** Type of complex data (\"Re\", \"Im\", \"Amp\", \"Phase\")    \n",
    "- $\\boldsymbol{\\sigma_0}$: Conductivity of 0th layer in S/m\n",
    "- $\\boldsymbol{\\sigma_1}$: Conductivity of 1st layer in S/m\n",
    "- $\\boldsymbol{\\sigma_2}$: Conductivity of 2nd layer in S/m\n",
    "- $\\boldsymbol{\\sigma_3}$: Conductivity of 3rd layer in S/m\n",
    "- $\\boldsymbol{\\chi}$: Susceptibility of 1-3 layers in SI\n",
    "- $\\boldsymbol{h_1}$: Thickness of the first layer in metres\n",
    "- $\\boldsymbol{h_2}$: Thickness of the second layer in metres\n",
    "- **Scale:** Plot data values on *log-scale* or *linear-scale*\n",
    "- $\\boldsymbol{\\Delta x}$ (m): Horizontal separation distance between the transmitter and receiver\n",
    "- $\\boldsymbol{\\Delta z}$ (m): Height of the transmitter and receiver above the Earth's surface\n",
    "- **f index:** Frequency index for the set of frequencies models by this app"
   ]
  },
  {
   "cell_type": "code",
   "execution_count": 11,
   "metadata": {},
   "outputs": [
    {
     "data": {
      "application/vnd.jupyter.widget-view+json": {
       "model_id": "6298b6bc38804ed6bb13a005203dc41b"
      }
     },
     "metadata": {},
     "output_type": "display_data"
    }
   ],
   "source": [
    "Q1 = vmd.InteractivePlane_Layer()\n",
    "display(Q1)"
   ]
  },
  {
   "cell_type": "markdown",
   "metadata": {},
   "source": [
    "## Tasks to be accomplished"
   ]
  },
  {
   "cell_type": "markdown",
   "metadata": {},
   "source": [
    "<font color = red>**Task 1**</font>: Set *Field = E*, *AmpDir = None*, *Comp = y*, *Re/Im = Amp* and $\\Delta z$ = 20  to plot the magnitude of Ey (you might want to use log-scale for visulization). Are there significant electric fields in the air as well as in the Earth? What if you set *Field = J*? Explain what you have observed. <font color=red>**(10 points)**</font>"
   ]
  },
  {
   "cell_type": "markdown",
   "metadata": {},
   "source": [
    "(answer to Task 1:) <br>\n"
   ]
  },
  {
   "cell_type": "markdown",
   "metadata": {},
   "source": [
    "<font color = red>**Task 2**</font>: Re-run the above app to set parameters back to default. Set *Field = J*, *AmpDir = None*, *Comp = y*,*Re/Im = Amp*, $\\Delta z$ = 20, and $f$ index = 16 (i.e., $f$ = 1 kHz) to plot the magnitude of Jy. Observe the distribution of the current density. Now, change the $f$ index to 28 (i.e., $f$ = 10 mHz). What happens to the spatial distribution of the current densities? How does the maximum value of current density change when the frequency is increased? Why is that? <font color=red>**(10 points)**</font>\n",
    "<br>\n",
    "<font color = red>**HINT:**</font>: Remember that the induced current in the three-loop system is $I_2$ = - $\\frac{i\\omega M_{12}}{R+i\\omega L}I_1 e^{i\\omega t}$. (Please refer to Slide 74 of Week 5) Therefore, the magnitude of the induced current is $|I_2|$ = $\\frac{\\alpha}{\\sqrt{1+\\alpha^2}}\\frac{M_{12}}{L}I_1$, where $\\alpha = \\frac{\\omega L}{R}$ is the induction number as defined in Week 5. "
   ]
  },
  {
   "cell_type": "code",
   "execution_count": null,
   "metadata": {
    "collapsed": true
   },
   "outputs": [],
   "source": [
    "(answer to Task 2:) <br>\n",
    "\n"
   ]
  },
  {
   "cell_type": "markdown",
   "metadata": {},
   "source": [
    "<font color = red>**Task 3**</font>: Re-run the above app to set parameters back to default. Set *Field = J*, *AmpDir = None*, *Comp = y*,*Re/Im = Amp*, $\\sigma_1$ = $\\sigma_2$ = $\\sigma_3$ = 0.01 $S/m$, $\\Delta z$ = 20, and $f$ index = 16 (i.e., $f$ = 1 kHz) to plot the magnitude of Jy. Observe the distribution of the current density. Now, change $\\sigma_1$ = $\\sigma_2$ = $\\sigma_3$ = 0.001 $S/m$. How does the maximum value of current density change when the frequency is increased? Why is that? <font color=red>**(10 points)**</font>\n",
    "<br>\n",
    "<font color = red>**HINT:**</font>: Remember that the induced current in the three-loop system is $I_2$ = - $\\frac{i\\omega M_{12}}{R+i\\omega L}I_1 e^{i\\omega t}$. (Please refer to Slide 74 of Week 5) Therefore, the magnitude of the induced current is $|I_2|$ = $\\frac{\\alpha}{\\sqrt{1+\\alpha^2}}\\frac{M_{12}}{L}I_1$, where $\\alpha = \\frac{\\omega L}{R}$ is the induction number as defined in Week 5. "
   ]
  },
  {
   "cell_type": "code",
   "execution_count": null,
   "metadata": {
    "collapsed": true
   },
   "outputs": [],
   "source": [
    "(answer to Task 3:) <br>\n",
    "\n"
   ]
  },
  {
   "cell_type": "markdown",
   "metadata": {},
   "source": [
    "<font color = red>**Task 4**</font>: Re-run the above app to set parameters back to default. Set *Field = J*, *AmpDir = None*, *Comp = y*, $\\sigma_1$ = $\\sigma_2$ = $\\sigma_3$ = 0.01 $S/m$, $\\Delta z$ = 20, and $f$ index = 16 (i.e., $f$ = 1 kHz). Now, change the *Re/Im* parameter from *Re* to *Im*. (For this task, the linear scale visualization would be fine.) Report the maximum value for the real component of Jy, and the imaginary component of Jy. <font color=red>**(20 points)**</font>\n",
    "- Why is the real component so much smaller than the imaginary component? \n",
    "- What should I do to make real component comparable to the imaginary component? \n",
    "- Find the value of the frequency at which the real component is (roughly) equal to the imaginary component?\n",
    "- Now set $f$ index = 16 (i.e., $f$ = 1,000 Hz), adjust the value of the conductivity of the three layers (while keeping $\\sigma_1$ = $\\sigma_2$ = $\\sigma_3$). What is the value of the conductivity for which the real component is equal to the imaginary component?"
   ]
  },
  {
   "cell_type": "markdown",
   "metadata": {},
   "source": [
    "<font color = red>**HINT:**</font>: Think about the response function discussed in Week 5. Please refer to Slides 81-85 if you need to refresh your memory about the response function."
   ]
  },
  {
   "cell_type": "code",
   "execution_count": null,
   "metadata": {
    "collapsed": true
   },
   "outputs": [],
   "source": [
    "(answer to Task 4:) <br>\n"
   ]
  },
  {
   "cell_type": "markdown",
   "metadata": {},
   "source": [
    "<font color = red>**Task 5**</font>: Re-run the above app to set parameters back to default. Set *Field = J*, *AmpDir = None*, *Comp = y*, *Re/Im = Im*, $\\sigma_1$ = $\\sigma_2$ = $\\sigma_3$ = 0.01 $S/m$, $h_1$ = $h_2$ = 20 m, $\\Delta z$ = 20, and $f$ index = 19 (i.e., $f$ = 10 kHz).  <font color=red>**(10 points)**</font>\n",
    "- Now, change $\\sigma_2$ to 0.1 $S/m$. What happens to the spatial distribution of current density? How does the maximum current density value change?\n",
    "- Increase $\\sigma_2$ to 1 $S/m$. What happens to the spatial distribution of current density? How does the maximum current density value change?\n",
    "- Explain what you have observed above when the second layer becomes more and more conductive?"
   ]
  },
  {
   "cell_type": "code",
   "execution_count": null,
   "metadata": {
    "collapsed": true
   },
   "outputs": [],
   "source": [
    "(answer to Task 5:) <br>\n"
   ]
  },
  {
   "cell_type": "markdown",
   "metadata": {},
   "source": [
    "<font color = red>**Task 6**</font>: Re-run the above app to set parameters back to default. Set *Field = J*, *AmpDir = None*, *Comp = y*, *Re/Im = Im*, $\\sigma_1$ = $\\sigma_2$ = $\\sigma_3$ = 0.01 $S/m$, $h_1$ = $h_2$ = 20 m, $\\Delta z$ = 20, and $f$ index = 19 (i.e., $f$ = 10 kHz).  <font color=red>**(10 points)**</font>\n",
    "- Now, decrease $\\sigma_2$ to 0.001 $S/m$. Do you see any obvious change in the spatial distibution of current density? How about the maximum current density value?\n",
    "- Keep decreasing $\\sigma_2$ to 0.0001 $S/m$, and 0.00001 $S/m$. Do you see any obvious change in the spatial distibution of current density? How about the maximum current density value?\n",
    "- What does the above experiment tell you? *Hint:* Is our EM survey sensitive to a resistor?"
   ]
  },
  {
   "cell_type": "code",
   "execution_count": null,
   "metadata": {
    "collapsed": true
   },
   "outputs": [],
   "source": [
    "(answer to Task 6:) <br>\n"
   ]
  },
  {
   "cell_type": "markdown",
   "metadata": {},
   "source": [
    "## 3. Horizontal Current Loop over a Sphere (frequency domain)"
   ]
  },
  {
   "cell_type": "markdown",
   "metadata": {},
   "source": [
    "## Setup\n",
    "\n",
    "The geological scenario being modeled is shown in the figure below. Here, the Earth is comprised of a sphere and a near-surface overburden layer within a homogeneous background. The depth to the layer is given by $d_1$ and $h$.\n",
    "\n",
    "<img src=\"https://github.com/geoscixyz/em_apps/blob/master/images/LayerSphereFEM.png?raw=true\"></img>"
   ]
  },
  {
   "cell_type": "markdown",
   "metadata": {},
   "source": [
    "## Interactive app\n",
    "\n",
    "We use this app to simulate the fields and currents everywhere due to a harmonic VMD source. The fields and induced currents depend on the frequency of the harmonic VMD source and the subsurface conductivity distribution. You will use the app to change various parameters in the model and see how the fields and currents change.\n",
    "\n",
    "## Parameters:\n",
    "\n",
    "- **Field:** Type of EM fields (\"E\": electric field, \"B\": total magnetic flux density, \"Bsec\": secondary magnetic flux density, \"J\": current density and \"Model\": conductivity model)\n",
    "- **AmpDir:** If *None* is selected, then the *x*, *y* or *z* component chosen on the next line is plotted. If *Direction* is chosen, a vector plot is plotted (only possible for B and Bsec)\n",
    "- **Comp.:** If *None* is selected on the previous line, the user chooses whether the *x*, *y* or *z* component is plotted.     \n",
    "- **Re/Im:** Type of complex data (\"Re\", \"Im\", \"Amp\", \"Phase\") \n",
    "- $\\boldsymbol{\\sigma_0}$: Conductivity above z=0m (leave as 1e-8) in S/m\n",
    "- $\\boldsymbol{\\sigma_b}$: Background conductivity below z = 0 m in S/m\n",
    "- $\\boldsymbol{\\sigma_1}$: Conductivity of the layer in S/m\n",
    "- $\\boldsymbol{\\sigma_2}$: Conductivity of the sphere in S/m\n",
    "- $\\boldsymbol{\\chi}$: Susceptibility below z = 0 m in SI\n",
    "- $\\boldsymbol{d_1}$: Depth to the top of the layer\n",
    "- $\\boldsymbol{h_1}$: Thickness of the layer\n",
    "- $\\boldsymbol{d_2}$: Depth to the centre of the sphere\n",
    "- $\\boldsymbol{R}$: Radius of the sphere\n",
    "- **Scale:** Plot data values on *log-scale* or *linear-scale*\n",
    "- $\\boldsymbol{\\Delta x}$ (m): Horizontal separation distance between the transmitter and receiver\n",
    "- $\\boldsymbol{\\Delta z}$ (m): Height of the transmitter and receiver above the Earth's surface\n",
    "- **f index:** Frequency index for the set of frequencies models by this app"
   ]
  },
  {
   "cell_type": "code",
   "execution_count": 19,
   "metadata": {},
   "outputs": [
    {
     "data": {
      "application/vnd.jupyter.widget-view+json": {
       "model_id": "c8b1629032214882bf6177911b3bf095"
      }
     },
     "metadata": {},
     "output_type": "display_data"
    }
   ],
   "source": [
    "Q1 = vmd.InteractivePlane_Sphere()\n",
    "display(Q1)"
   ]
  },
  {
   "cell_type": "markdown",
   "metadata": {},
   "source": [
    "## Tasks to be accomplished"
   ]
  },
  {
   "cell_type": "markdown",
   "metadata": {},
   "source": [
    "<font color = red>**Task 7**</font>: Set *Field = J*, *AmpDir = None*, *Comp = y*, *Re/Im = Im*, $\\sigma_b$ = $\\sigma_1$ =  0.002 $S/m$, $\\sigma_2$ = 1 $S/m$, $d_1$ = 10 m, $h$ = 10 m, $d_2$ = 50 m, $R$ = 20 m, $\\Delta z$ = 20, and $f$ index = 16. <font color=red>**(10 points)**</font>\n",
    "- Summarize the distribution of the current density. \n",
    "- Now, set $\\sigma_1$ = $10^6$ $\\Omega m$. How does the current density distibution change when there is a near-surface resistive layer above the conductive sphere?\n",
    "- Based on the above experiment, would near-surface resistors be a problem when our target is a deep conductor?"
   ]
  },
  {
   "cell_type": "code",
   "execution_count": null,
   "metadata": {
    "collapsed": true
   },
   "outputs": [],
   "source": [
    "(answer to Task 7:)\n"
   ]
  },
  {
   "cell_type": "markdown",
   "metadata": {},
   "source": [
    "<font color = red>**Task 8**</font>: Set *Field = J*, *AmpDir = None*, *Comp = y*, *Re/Im = Im*, $\\sigma_b$ = $\\sigma_1$ =  0.002 $S/m$, $\\sigma_2$ = 1 $S/m$, $d_1$ = 10 m, $h$ = 10 m, $d_2$ = 50 m, $R$ = 20 m, $\\Delta z$ = 20, and $f$ index = 16. <font color=red>**(10 points)**</font>\n",
    "- Now, set $\\sigma_1$ = $1$ $\\Omega m$. How does the current density distibution change when there is a near-surface conductive layer located above the conductive sphere?\n",
    "- Set $\\sigma_2$ = 0.002 $S/m$. How does the current density change?\n",
    "- Based on the above experiment, would a near-surface conductivey layer be a problem when our target is a deep conductor?"
   ]
  },
  {
   "cell_type": "code",
   "execution_count": null,
   "metadata": {
    "collapsed": true
   },
   "outputs": [],
   "source": [
    "(answer to Task 8:)\n"
   ]
  },
  {
   "cell_type": "markdown",
   "metadata": {},
   "source": [
    "<font color = red>**Task 9**</font>: Set *Field = J*, *AmpDir = None*, *Comp = y*, *Re/Im = Im*, $\\sigma_b$ = $\\sigma_1$ =  0.002 $S/m$, $\\sigma_2$ = 1 $S/m$, $d_1$ = 10 m, $h$ = 10 m, $d_2$ = 50 m, $R$ = 20 m, $\\Delta z$ = 20, and $f$ index = 1. <font color=red>**(10 points)**</font>\n",
    "- Keep increasing *f index*. The currents become only visible on the edges of the conductor when $f$ index is around 20. Why is this? *Hint: consider skin depth inside the conductor, i.e., $\\delta = 503 \\sqrt{\\frac{\\rho}{f}}$, where $f$ is the frequency*.\n",
    "- Now increase the $f$ index to 22. How does the current density distibution change?\n",
    "- Keep increase the $f$ index to 28. where is the largest concentration of currents? Explain why. *Hint:* Think about skin depth $\\delta = 503 \\sqrt{\\frac{\\rho}{f}}$, where $f$ is the frequency.\n",
    "- Based on the above experiment, what suggesions would you give to a company that looks for a deep gold deposit (which is conductive)?"
   ]
  },
  {
   "cell_type": "markdown",
   "metadata": {
    "collapsed": true
   },
   "source": [
    "## Acknowledgments\n",
    "The apps that were used in this lab were developed by the [SimPEG](http://www.simpeg.xyz/) team. Most members are graduate students from [UBC-GIF](https://gif.eos.ubc.ca/about). I would like all SimPEG team members for their hard and awesome work!\n",
    "\n",
    "<img src = \"simpegteam.PNG\">"
   ]
  }
 ],
 "metadata": {
  "anaconda-cloud": {},
  "kernelspec": {
   "display_name": "Python 3",
   "language": "python",
   "name": "python3"
  },
  "language_info": {
   "codemirror_mode": {
    "name": "ipython",
    "version": 3
   },
   "file_extension": ".py",
   "mimetype": "text/x-python",
   "name": "python",
   "nbconvert_exporter": "python",
   "pygments_lexer": "ipython3",
   "version": "3.6.1"
  },
  "widgets": {
   "state": {
    "c0dd4dbce2ff4d0cacf7363e6fdfed13": {
     "views": [
      {
       "cell_index": 6
      }
     ]
    },
    "d6ee822b25404d33979ba6ec5f19963c": {
     "views": [
      {
       "cell_index": 8
      }
     ]
    }
   },
   "version": "1.2.0"
  }
 },
 "nbformat": 4,
 "nbformat_minor": 1
}
