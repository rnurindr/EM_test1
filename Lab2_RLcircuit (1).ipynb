{
  "cells": [
    {
      "metadata": {},
      "cell_type": "markdown",
      "source": "# Understanding EM using RL circuit\nIn this lab exercise, we are going to use simple RL circuits to understand the frequency domain and time domain EM experiments. Similar to the previous lab, we will make use of the interactive EM apps. <br>\n\nAfter finishing this exercise, you will understand <br>\n** for a frequency domain EM experiment**, \n* how resistivity of a subsurface target affects the phase lag; <br>\n* how resistivity of a subsurface target affects the amplitude of the induced current; <br>\n* how the in-phase and quadrature components are affected by resistivity; <br>\n* how the coupling between transmitter and receiver loops affects the induced current; <br>\n\n** and for a time domain EM experiment**, \n* how the resistivity affects the decay rate of the induced current; <br>\n* how the depth of the subsurface target affects the decaying behavior of the induced current; <br>\n* how the primary in the transmitter loop affects the decaying behavior of the induced current. <br>\n\nAuthor: Jiajia Sun at University of Houston, September 25th, 2018."
    },
    {
      "metadata": {
        "trusted": true
      },
      "cell_type": "code",
      "source": "!pip install -r ../requirements.txt",
      "execution_count": 1,
      "outputs": [
        {
          "output_type": "stream",
          "text": "Requirement already satisfied: numpy in /home/nbuser/anaconda3_501/lib/python3.6/site-packages (from -r ../requirements.txt (line 1)) (1.15.1)\nRequirement already satisfied: scipy in /home/nbuser/anaconda3_501/lib/python3.6/site-packages (from -r ../requirements.txt (line 2)) (0.19.1)\nRequirement already satisfied: matplotlib in /home/nbuser/anaconda3_501/lib/python3.6/site-packages (from -r ../requirements.txt (line 3)) (2.1.1)\nRequirement already satisfied: Pillow in /home/nbuser/anaconda3_501/lib/python3.6/site-packages (from -r ../requirements.txt (line 4)) (4.3.0)\nRequirement already satisfied: ipywidgets>=0.6.0 in /home/nbuser/anaconda3_501/lib/python3.6/site-packages (from -r ../requirements.txt (line 5)) (7.2.1)\nRequirement already satisfied: requests in /home/nbuser/anaconda3_501/lib/python3.6/site-packages (from -r ../requirements.txt (line 6)) (2.19.1)\nRequirement already satisfied: SimPEG in /home/nbuser/anaconda3_501/lib/python3.6/site-packages (from -r ../requirements.txt (line 7)) (0.9.2)\nRequirement already satisfied: em_examples in /home/nbuser/anaconda3_501/lib/python3.6/site-packages (from -r ../requirements.txt (line 8)) (0.0.30)\nRequirement already satisfied: empymod in /home/nbuser/anaconda3_501/lib/python3.6/site-packages (from -r ../requirements.txt (line 9)) (1.7.3)\nRequirement already satisfied: deepdish in /home/nbuser/anaconda3_501/lib/python3.6/site-packages (from -r ../requirements.txt (line 10)) (0.3.6)\nRequirement already satisfied: pymatsolver>=0.1.2 in /home/nbuser/anaconda3_501/lib/python3.6/site-packages (from -r ../requirements.txt (line 11)) (0.1.2)\nRequirement already satisfied: six>=1.10 in /home/nbuser/anaconda3_501/lib/python3.6/site-packages (from matplotlib->-r ../requirements.txt (line 3)) (1.11.0)\nRequirement already satisfied: python-dateutil>=2.0 in /home/nbuser/anaconda3_501/lib/python3.6/site-packages (from matplotlib->-r ../requirements.txt (line 3)) (2.7.3)\nRequirement already satisfied: pytz in /home/nbuser/anaconda3_501/lib/python3.6/site-packages (from matplotlib->-r ../requirements.txt (line 3)) (2017.2)\nRequirement already satisfied: cycler>=0.10 in /home/nbuser/anaconda3_501/lib/python3.6/site-packages (from matplotlib->-r ../requirements.txt (line 3)) (0.10.0)\nRequirement already satisfied: pyparsing!=2.0.4,!=2.1.2,!=2.1.6,>=2.0.1 in /home/nbuser/anaconda3_501/lib/python3.6/site-packages (from matplotlib->-r ../requirements.txt (line 3)) (2.2.0)\nRequirement already satisfied: olefile in /home/nbuser/anaconda3_501/lib/python3.6/site-packages (from Pillow->-r ../requirements.txt (line 4)) (0.44)\nRequirement already satisfied: ipykernel>=4.5.1 in /home/nbuser/anaconda3_501/lib/python3.6/site-packages (from ipywidgets>=0.6.0->-r ../requirements.txt (line 5)) (4.7.0)\nRequirement already satisfied: traitlets>=4.3.1 in /home/nbuser/anaconda3_501/lib/python3.6/site-packages (from ipywidgets>=0.6.0->-r ../requirements.txt (line 5)) (4.3.2)\nRequirement already satisfied: nbformat>=4.2.0 in /home/nbuser/anaconda3_501/lib/python3.6/site-packages (from ipywidgets>=0.6.0->-r ../requirements.txt (line 5)) (4.4.0)\nRequirement already satisfied: widgetsnbextension~=3.2.0 in /home/nbuser/anaconda3_501/lib/python3.6/site-packages (from ipywidgets>=0.6.0->-r ../requirements.txt (line 5)) (3.2.1)\nRequirement already satisfied: ipython>=4.0.0 in /home/nbuser/anaconda3_501/lib/python3.6/site-packages (from ipywidgets>=0.6.0->-r ../requirements.txt (line 5)) (6.2.1)\nRequirement already satisfied: urllib3<1.24,>=1.21.1 in /home/nbuser/anaconda3_501/lib/python3.6/site-packages (from requests->-r ../requirements.txt (line 6)) (1.23)\nRequirement already satisfied: idna<2.8,>=2.5 in /home/nbuser/anaconda3_501/lib/python3.6/site-packages (from requests->-r ../requirements.txt (line 6)) (2.6)\nRequirement already satisfied: certifi>=2017.4.17 in /home/nbuser/anaconda3_501/lib/python3.6/site-packages (from requests->-r ../requirements.txt (line 6)) (2017.7.27.1)\nRequirement already satisfied: chardet<3.1.0,>=3.0.2 in /home/nbuser/anaconda3_501/lib/python3.6/site-packages (from requests->-r ../requirements.txt (line 6)) (3.0.4)\nRequirement already satisfied: properties>=0.5.2 in /home/nbuser/anaconda3_501/lib/python3.6/site-packages (from SimPEG->-r ../requirements.txt (line 7)) (0.5.3)\nRequirement already satisfied: geoana>=0.0.4 in /home/nbuser/anaconda3_501/lib/python3.6/site-packages (from SimPEG->-r ../requirements.txt (line 7)) (0.0.5)\nRequirement already satisfied: vectormath>=0.2.0 in /home/nbuser/anaconda3_501/lib/python3.6/site-packages (from SimPEG->-r ../requirements.txt (line 7)) (0.2.0)\nRequirement already satisfied: cython in /home/nbuser/anaconda3_501/lib/python3.6/site-packages (from SimPEG->-r ../requirements.txt (line 7)) (0.26.1)\nRequirement already satisfied: discretize>=0.2.0 in /home/nbuser/anaconda3_501/lib/python3.6/site-packages (from SimPEG->-r ../requirements.txt (line 7)) (0.3.2)\nRequirement already satisfied: jupyter in /home/nbuser/anaconda3_501/lib/python3.6/site-packages (from em_examples->-r ../requirements.txt (line 8)) (1.0.0)\nRequirement already satisfied: future in /home/nbuser/anaconda3_501/lib/python3.6/site-packages (from em_examples->-r ../requirements.txt (line 8)) (0.16.0)\nRequirement already satisfied: tables in /home/nbuser/anaconda3_501/lib/python3.6/site-packages (from deepdish->-r ../requirements.txt (line 10)) (3.4.2)\nRequirement already satisfied: pyMKL>=0.0.3 in /home/nbuser/anaconda3_501/lib/python3.6/site-packages (from pymatsolver>=0.1.2->-r ../requirements.txt (line 11)) (0.0.3)\nRequirement already satisfied: jupyter_client in /home/nbuser/anaconda3_501/lib/python3.6/site-packages (from ipykernel>=4.5.1->ipywidgets>=0.6.0->-r ../requirements.txt (line 5)) (5.1.0)\nRequirement already satisfied: tornado>=4.0 in /home/nbuser/anaconda3_501/lib/python3.6/site-packages (from ipykernel>=4.5.1->ipywidgets>=0.6.0->-r ../requirements.txt (line 5)) (4.5.2)\nRequirement already satisfied: ipython_genutils in /home/nbuser/anaconda3_501/lib/python3.6/site-packages (from traitlets>=4.3.1->ipywidgets>=0.6.0->-r ../requirements.txt (line 5)) (0.2.0)\nRequirement already satisfied: decorator in /home/nbuser/anaconda3_501/lib/python3.6/site-packages (from traitlets>=4.3.1->ipywidgets>=0.6.0->-r ../requirements.txt (line 5)) (4.1.2)\nRequirement already satisfied: jsonschema!=2.5.0,>=2.4 in /home/nbuser/anaconda3_501/lib/python3.6/site-packages (from nbformat>=4.2.0->ipywidgets>=0.6.0->-r ../requirements.txt (line 5)) (2.6.0)\nRequirement already satisfied: jupyter_core in /home/nbuser/anaconda3_501/lib/python3.6/site-packages (from nbformat>=4.2.0->ipywidgets>=0.6.0->-r ../requirements.txt (line 5)) (4.4.0)\nRequirement already satisfied: notebook>=4.4.1 in /home/nbuser/anaconda3_501/lib/python3.6/site-packages (from widgetsnbextension~=3.2.0->ipywidgets>=0.6.0->-r ../requirements.txt (line 5)) (5.0.0)\nRequirement already satisfied: setuptools>=18.5 in /home/nbuser/anaconda3_501/lib/python3.6/site-packages (from ipython>=4.0.0->ipywidgets>=0.6.0->-r ../requirements.txt (line 5)) (40.4.2)\nRequirement already satisfied: jedi>=0.10 in /home/nbuser/anaconda3_501/lib/python3.6/site-packages (from ipython>=4.0.0->ipywidgets>=0.6.0->-r ../requirements.txt (line 5)) (0.10.2)\nRequirement already satisfied: pickleshare in /home/nbuser/anaconda3_501/lib/python3.6/site-packages (from ipython>=4.0.0->ipywidgets>=0.6.0->-r ../requirements.txt (line 5)) (0.7.4)\nRequirement already satisfied: simplegeneric>0.8 in /home/nbuser/anaconda3_501/lib/python3.6/site-packages (from ipython>=4.0.0->ipywidgets>=0.6.0->-r ../requirements.txt (line 5)) (0.8.1)\nRequirement already satisfied: prompt_toolkit<2.0.0,>=1.0.4 in /home/nbuser/anaconda3_501/lib/python3.6/site-packages (from ipython>=4.0.0->ipywidgets>=0.6.0->-r ../requirements.txt (line 5)) (1.0.15)\nRequirement already satisfied: pygments in /home/nbuser/anaconda3_501/lib/python3.6/site-packages (from ipython>=4.0.0->ipywidgets>=0.6.0->-r ../requirements.txt (line 5)) (2.2.0)\nRequirement already satisfied: pexpect in /home/nbuser/anaconda3_501/lib/python3.6/site-packages (from ipython>=4.0.0->ipywidgets>=0.6.0->-r ../requirements.txt (line 5)) (4.2.1)\nRequirement already satisfied: utm in /home/nbuser/anaconda3_501/lib/python3.6/site-packages (from geoana>=0.0.4->SimPEG->-r ../requirements.txt (line 7)) (0.4.2)\nRequirement already satisfied: qtconsole in /home/nbuser/anaconda3_501/lib/python3.6/site-packages (from jupyter->em_examples->-r ../requirements.txt (line 8)) (4.3.1)\nRequirement already satisfied: jupyter-console in /home/nbuser/anaconda3_501/lib/python3.6/site-packages (from jupyter->em_examples->-r ../requirements.txt (line 8)) (5.2.0)\nRequirement already satisfied: nbconvert in /home/nbuser/anaconda3_501/lib/python3.6/site-packages (from jupyter->em_examples->-r ../requirements.txt (line 8)) (5.3.1)\n",
          "name": "stdout"
        },
        {
          "output_type": "stream",
          "text": "Requirement already satisfied: numexpr>=2.5.2 in /home/nbuser/anaconda3_501/lib/python3.6/site-packages (from tables->deepdish->-r ../requirements.txt (line 10)) (2.6.2)\r\nRequirement already satisfied: pyzmq>=13 in /home/nbuser/anaconda3_501/lib/python3.6/site-packages (from jupyter_client->ipykernel>=4.5.1->ipywidgets>=0.6.0->-r ../requirements.txt (line 5)) (16.0.2)\r\nRequirement already satisfied: wcwidth in /home/nbuser/anaconda3_501/lib/python3.6/site-packages (from prompt_toolkit<2.0.0,>=1.0.4->ipython>=4.0.0->ipywidgets>=0.6.0->-r ../requirements.txt (line 5)) (0.1.7)\r\nRequirement already satisfied: mistune>=0.7.4 in /home/nbuser/anaconda3_501/lib/python3.6/site-packages (from nbconvert->jupyter->em_examples->-r ../requirements.txt (line 8)) (0.7.4)\r\nRequirement already satisfied: jinja2 in /home/nbuser/anaconda3_501/lib/python3.6/site-packages (from nbconvert->jupyter->em_examples->-r ../requirements.txt (line 8)) (2.9.6)\r\nRequirement already satisfied: entrypoints>=0.2.2 in /home/nbuser/anaconda3_501/lib/python3.6/site-packages (from nbconvert->jupyter->em_examples->-r ../requirements.txt (line 8)) (0.2.3)\r\nRequirement already satisfied: bleach in /home/nbuser/anaconda3_501/lib/python3.6/site-packages (from nbconvert->jupyter->em_examples->-r ../requirements.txt (line 8)) (2.0.0)\r\nRequirement already satisfied: pandocfilters>=1.4.1 in /home/nbuser/anaconda3_501/lib/python3.6/site-packages (from nbconvert->jupyter->em_examples->-r ../requirements.txt (line 8)) (1.4.2)\r\nRequirement already satisfied: testpath in /home/nbuser/anaconda3_501/lib/python3.6/site-packages (from nbconvert->jupyter->em_examples->-r ../requirements.txt (line 8)) (0.3.1)\r\nRequirement already satisfied: MarkupSafe>=0.23 in /home/nbuser/anaconda3_501/lib/python3.6/site-packages (from jinja2->nbconvert->jupyter->em_examples->-r ../requirements.txt (line 8)) (1.0)\r\nRequirement already satisfied: html5lib>=0.99999999 in /home/nbuser/anaconda3_501/lib/python3.6/site-packages (from bleach->nbconvert->jupyter->em_examples->-r ../requirements.txt (line 8)) (0.999999999)\r\nRequirement already satisfied: webencodings in /home/nbuser/anaconda3_501/lib/python3.6/site-packages (from html5lib>=0.99999999->bleach->nbconvert->jupyter->em_examples->-r ../requirements.txt (line 8)) (0.5.1)\r\n",
          "name": "stdout"
        }
      ]
    },
    {
      "metadata": {
        "trusted": true
      },
      "cell_type": "code",
      "source": "from em_examples.Base import widgetify\nimport em_examples.InductionLoop as IND\nfrom ipywidgets import interact, FloatSlider, FloatText",
      "execution_count": 2,
      "outputs": []
    },
    {
      "metadata": {},
      "cell_type": "markdown",
      "source": "## Understanding frequency domain EM using RL circuit"
    },
    {
      "metadata": {},
      "cell_type": "markdown",
      "source": "### App Parameter Descriptions\n\n<img style=\"float: right; width: 500px\" src=\"https://github.com/geoscixyz/em_apps/blob/master/images/InductionLoop.png?raw=true\">\n\nBelow are the adjustable parameters for the widget that simulates the frequency domain EM experiment:\n\n* $I_p$: Transmitter current amplitude [A]\n* $a_{Tx}$: Transmitter loop radius [m]\n* $a_{Rx}$: Receiver loop radius [m]\n* $x_{Rx}$: Receiver x position [m]\n* $z_{Rx}$: Receiver z position [m]\n* $\\theta$: Receiver normal vector relative to vertical [degrees]\n* $R$: Resistance of receiver loop [$\\Omega$]\n* $L$: Inductance of receiver loop [H]\n* $f$: Specific frequency [Hz]"
    },
    {
      "metadata": {
        "trusted": true
      },
      "cell_type": "code",
      "source": "# RUN FREQUENCY DOMAIN WIDGET\nwidgetify(IND.fcn_FDEM_Widget,I=FloatSlider(min=1, max=10., value=1., step=1., continuous_update=False, description = \"$I_0$\"),\\\n                        a1=FloatSlider(min=1., max=20., value=10., step=1., continuous_update=False, description = \"$a_{Tx}$\"),\\\n                        a2=FloatSlider(min=1., max=20.,value=5.,step=1.,continuous_update=False,description = \"$a_{Rx}$\"),\\\n                        xRx=FloatSlider(min=-15., max=15., value=0., step=1., continuous_update=False, description = \"$x_{Rx}$\"),\\\n                        zRx=FloatSlider(min=-15., max=15., value=-8., step=1., continuous_update=False, description = \"$z_{Rx}$\"),\\\n                        azm=FloatSlider(min=-90., max=90., value=0., step=10., continuous_update=False, description = \"$\\\\theta$\"),\\\n                        logR=FloatSlider(min=0., max=6., value=2., step=.2, continuous_update=False, description = \"$log_{10}(R)$\"),\\\n                        logL=FloatSlider(min=-7., max=-2., value=-4., step=1., continuous_update=False, description = \"$log_{10}(L)$\"),\\\n                        logf=FloatSlider(min=0., max=8., value=5., step=1., continuous_update=False, description = \"$log_{10}(f)$\"))\n    ",
      "execution_count": 14,
      "outputs": [
        {
          "output_type": "display_data",
          "data": {
            "application/vnd.jupyter.widget-view+json": {
              "model_id": "f615a9704c844ed58710d6588f76fbdb",
              "version_minor": 0,
              "version_major": 2
            },
            "text/plain": "MyApp(children=(FloatSlider(value=1.0, continuous_update=False, description='$I_0$', max=10.0, min=1.0, step=1…"
          },
          "metadata": {}
        }
      ]
    },
    {
      "metadata": {},
      "cell_type": "markdown",
      "source": "<font color = red>**Note:**</font> Keep the frequency <font color=blue>*$log_{10}(f) = 5$*</font>. Run the above app by setting the resistance of the receiver loop to the following values: <font color = blue>*$log_{10}(R) = 0, 1, 2, 3, 4. $*</font> Answer the following questions. "
    },
    {
      "metadata": {},
      "cell_type": "markdown",
      "source": "<font color = red>**Task 1**</font>: Report the phase lag values that appear in the middle panel, when the resistance increases from 1 $\\Omega$ to $10^4 \\Omega$?. How does the phase lag change? <font color=red>**(10 points)**</font>"
    },
    {
      "metadata": {},
      "cell_type": "markdown",
      "source": "(ansewr to Task 1:) <br>\n"
    },
    {
      "metadata": {},
      "cell_type": "markdown",
      "source": "<font color = red>**Task 2**</font>: Compute $\\frac{\\pi}{2} + tan^{-1}(\\frac{2\\pi f L}{R})$ in <font color = red>**degrees** </font> with <font color = blue>$log_{10}(L) = -4$ </font>, <font color=blue>*$log_{10}(f) = 5$*</font>, and <font color = blue>*$log_{10}(R) = 0, 1, 2, 3, 4. $*</font> How do these values compare with the values your reported above? <font color = red>**(10 points)**</font> <br>\n<font color = red>**HINT:**</font> What you obtain from $\\frac{\\pi}{2} + tan^{-1}(\\frac{2\\pi f L}{R})$ is phase lag in radians. You will need to convert radians to degrees. To do that, you can use the following simple equation: degrees = radians*180/$\\pi$."
    },
    {
      "metadata": {},
      "cell_type": "markdown",
      "source": "(answer to Task 2:) <br>\n"
    },
    {
      "metadata": {},
      "cell_type": "markdown",
      "source": "<font color = red>**Task 3**</font>: Report the amplitude values of $I_s$, i.e., the amplitude of the induced current in the receiver loop,  when the resistance increases from 1 $\\Omega$ to $10^4 \\Omega$?. How do they change? <font color = red>**(10 points)**</font>"
    },
    {
      "metadata": {
        "trusted": true
      },
      "cell_type": "markdown",
      "source": "(ansewr to Taskk 3:)\n"
    },
    {
      "metadata": {},
      "cell_type": "markdown",
      "source": "<font color = red>**Task 4**</font>: How does the in-phase component of the secondary current change (i.e., the blue sinusoidal curve in the bottom panel), when the resistance increases from 1 $\\Omega$ to $10^4 \\Omega$? How about the quadrature component? Report the values of the amplitudes for both in-phase and quadrature components (when <font color = blue>*$log_{10}(R) = 0, 1, 2, 3, 4$*</font> ) and summarize your observation. <font color = red>**(10 points)**</font>"
    },
    {
      "metadata": {
        "trusted": true
      },
      "cell_type": "markdown",
      "source": "(answer to Task 4:) <br>\n"
    },
    {
      "metadata": {},
      "cell_type": "markdown",
      "source": "<font color = red>**Task 5**</font>: Re-run the app with <font color = blue> $\\theta = 90^{\\circ}$ </font>, <font color = blue>$log_{10}(L) = -4$ </font>, <font color=blue>*$log_{10}(f) = 5$*</font>, and <font color = blue>*$log_{10}(R) = 2.$*</font> Report the amplitude of the secondary current $I_s$, and compare it with what you would observe when <font color = blue> $\\theta = 0^{\\circ}$ </font>, <font color = blue>$log_{10}(L) = -4$ </font>, <font color=blue>*$log_{10}(f) = 5$*</font>, and <font color = blue>*$log_{10}(R) = 2.$*</font>. Explain the observation using the concept of mutual inductance (i.e., coupling). <font color = red>**(10 points)**</font> <br>\n<font color = red>**HINT:**</font> Take a look at Slide 80 from last week's lecture, if you need to refresh your memory on coupling between loops."
    },
    {
      "metadata": {
        "trusted": true
      },
      "cell_type": "markdown",
      "source": "(answer to Task 5:) <br>\n"
    },
    {
      "metadata": {},
      "cell_type": "markdown",
      "source": "<font color = red>**Task 6**</font>: Find out which resistance value results in equal in-phase and quadrature components.  <font color = red>**(10 points)**</font> <br>\n<font color = red>**HINT:**</font> Adjust the resistance value by dragging on the $log_{10}(R)$ slider, while keeping all other parameters fixed (i.e., $I_0$ = 1, $a_{Tx}$ = 10, $a_{Rx}$ = 5, $x_{Rx}$ = 0, $z_{Rx}$ = -8, $\\theta$ = 0, $log_{10}(L)$ = -4, and $log_{10}(f)$ = 5). "
    },
    {
      "metadata": {},
      "cell_type": "markdown",
      "source": "(answer to Task 6:) <br>\n"
    },
    {
      "metadata": {},
      "cell_type": "markdown",
      "source": "## Understanding time domain EM using RL circuit"
    },
    {
      "metadata": {},
      "cell_type": "markdown",
      "source": "## App Parameter Descriptions\n\n<img style=\"float: right; width: 500px\" src=\"https://github.com/geoscixyz/em_apps/blob/master/images/InductionLoop.png?raw=true\">\n\nBelow are the adjustable parameters for the widget that simulates the time domain EM experiment:\n\n* $I_p$: Transmitter current amplitude [A]\n* $a_{Tx}$: Transmitter loop radius [m]\n* $a_{Rx}$: Receiver loop radius [m]\n* $x_{Rx}$: Receiver x position [m]\n* $z_{Rx}$: Receiver z position [m]\n* $\\theta$: Receiver normal vector relative to vertical [degrees]\n* $R$: Resistance of receiver loop [$\\Omega$]\n* $L$: Inductance of receiver loop [H]\n* $t$: Specific time [s]"
    },
    {
      "metadata": {
        "trusted": true
      },
      "cell_type": "code",
      "source": "# RUN TRANSIENT WIDGET\nwidgetify(IND.fcn_TDEM_Widget,I=FloatSlider(min=0.01, max=100., value=1., step=1., continuous_update=False, description = \"$I_0$\"),\\\n                        a1=FloatSlider(min=1., max=20., value=10., step=1., continuous_update=False, description = \"$a_{Tx}$\"),\\\n                        a2=FloatSlider(min=1., max=20., value=5., step=1., continuous_update=False, description = \"$a_{Rx}$\"),\\\n                        xRx=FloatSlider(min=-15., max=15., value=0., step=1., continuous_update=False, description = \"$x_{Rx}$\"),\\\n                        zRx=FloatSlider(min=-15., max=15., value=-8., step=1., continuous_update=False, description = \"$z_{Rx}$\"),\\\n                        azm=FloatSlider(min=-90., max=90., value=0., step=10., continuous_update=False, description = \"$\\\\theta$\"),\\\n                        logR=FloatSlider(min=0, max=6, value=2, step=1., continuous_update=False, description = \"$log_{10}(R)$\"),\\\n                        logL=FloatSlider(min=-7, max=-2, value=-2, step=1., continuous_update=False, description = \"$log_{10}(L)$\"),\\\n                        logt=FloatSlider(min=-6, max=-2, value=-4, step=1., continuous_update=False, description = \"$log_{10}(t)$\"))\n    ",
      "execution_count": 20,
      "outputs": [
        {
          "output_type": "display_data",
          "data": {
            "application/vnd.jupyter.widget-view+json": {
              "model_id": "081d3ba990ca43dd8f6d204d73f2724c",
              "version_minor": 0,
              "version_major": 2
            },
            "text/plain": "MyApp(children=(FloatSlider(value=1.0, continuous_update=False, description='$I_0$', min=0.01, step=1.0), Floa…"
          },
          "metadata": {}
        }
      ]
    },
    {
      "metadata": {},
      "cell_type": "markdown",
      "source": "<font color = red>**Task 7**</font>: Run the above app by setting the resistance of the receiver loop to the following values: <font color = blue>*$log_{10}(R) = 0, 1, 2, 3, 4. $*</font>. Keep all other parameters unchanged (i.e., $I_0$ = 1, $a_{Tx}$ = 10, $a_{Rx}$ = 5, $x_{Rx}$ = 0, $z_{Rx}$ = -8, $\\theta$ = 0, $log_{10}(L)$ = -2, and $log_{10}(t)$ = -4). Compare the decay rate of the secondary current $I_s$ when different resistance values were assumed. Summarize and explain your observation. <font color = red>**(15 points)**</font> <br>\n<font color = red>**HINT:**</font> Remember that the induced current in the receiver loop is $I_s(t) = \\frac{M_{12}I_{0}}{L}e^{-t/\\tau}$ where $t \\gt 0, \\tau = \\frac{L}{R}$. See Slide 102 from last week's lecture."
    },
    {
      "metadata": {},
      "cell_type": "markdown",
      "source": "(ansewr to Task 7) <br>\n"
    },
    {
      "metadata": {},
      "cell_type": "markdown",
      "source": "<font color = red>**Task 8**</font>: Run the above app by setting the vertical location of the receiver loop to three different values: <font color = blue>$z_{Rx}$ = -4, -8 and -15 </font>, while keeping all the other parameters fixed (i.e., $I_0$ = 1, $a_{Tx}$ = 10, $a_{Rx}$ = 5, $x_{Rx}$ = 0, $\\theta$ = 0, $log_{10}(R)$ = 2, $log_{10}(L)$ = -2, and $log_{10}(t)$ = -4). Compare the decaying behavior of the secondary current $I_s$ when the receiver loop was placed at different depths. Summarize and explain your observation. <font color = red>**(15 points)**</font> <br>\n<font color = red>**HINT:**</font> Remember that the induced current in the receiver loop is $I_s(t) = \\frac{M_{12}I_{0}}{L}e^{-t/\\tau}$ where $t \\gt 0, \\tau = \\frac{L}{R}$. See Slide 102 from last week's lecture."
    },
    {
      "metadata": {},
      "cell_type": "markdown",
      "source": "(answer to Task 8) <br>\n"
    },
    {
      "metadata": {},
      "cell_type": "markdown",
      "source": "<font color = red>**Task 9**</font>: Run the above app by setting the primary current in the transmitter loop to three different values: <font color = blue>$I_0$ = 1, 20.01 and 60.01 </font>, while keeping all the other parameters fixed (i.e., $a_{Tx}$ = 10, $a_{Rx}$ = 5, $x_{Rx}$ = 0, $z_{Rx}$ = -8, $\\theta$ = 0, $log_{10}(R)$ = 2, $log_{10}(L)$ = -2, and $log_{10}(t)$ = -4). Compare the decaying behavior of the secondary current $I_s$ when the receiver loop was placed at different depths. Summarize and explain your observation. <font color = red>**(10 points)**</font> <br>\n<font color = red>**HINT:**</font> Remember that the induced current in the receiver loop is $I_s(t) = \\frac{M_{12}I_{0}}{L}e^{-t/\\tau}$ where $t \\gt 0, \\tau = \\frac{L}{R}$. See Slide 102 from last week's lecture."
    },
    {
      "metadata": {},
      "cell_type": "markdown",
      "source": "(answer to Task 9) <br>\n"
    },
    {
      "metadata": {},
      "cell_type": "markdown",
      "source": "## Acknowledgments\nThe apps that were used in this lab were developed by the [SimPEG](http://www.simpeg.xyz/) team. Most members are graduate students from [UBC-GIF](https://gif.eos.ubc.ca/about). I would like all SimPEG team members for their hard and awesome work!\n\n<img src = \"simpegteam.PNG\">"
    },
    {
      "metadata": {
        "trusted": true
      },
      "cell_type": "code",
      "source": "",
      "execution_count": null,
      "outputs": []
    }
  ],
  "metadata": {
    "kernelspec": {
      "name": "python36",
      "display_name": "Python 3.6",
      "language": "python"
    },
    "language_info": {
      "mimetype": "text/x-python",
      "nbconvert_exporter": "python",
      "name": "python",
      "pygments_lexer": "ipython3",
      "version": "3.6.6",
      "file_extension": ".py",
      "codemirror_mode": {
        "version": 3,
        "name": "ipython"
      }
    }
  },
  "nbformat": 4,
  "nbformat_minor": 2
}