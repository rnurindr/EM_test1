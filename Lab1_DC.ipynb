{
  "cells": [
    {
      "metadata": {},
      "cell_type": "markdown",
      "source": "# Understanding DC resistivity: currents, apparent resistivity, and charges\nIn this lab exercise, we are going to use the interactive EM apps to create some models and look at the distribution of current densities and charges. The goal of this lab is to help you develop a better undertanding of the important concepts related to DC resistivity, namely, currents, apparent resistivity and charges. <br>\n<br>\nAfter finishing this exercise, you will <br>\n1. be able to use Jupyter Notebooks;\n2. be able to run the interactive EM apps;\n3. be able to creat resistivity models;\n4. understand how currents flow in the subsurface for a DC survey;\n5. understand how charges are built up; and\n6. eventually develop a better understanding of the DC resistivity method. <br>\n\n\nAuthor: Jiajia Sun at University of Houston, September 6th, 2018."
    },
    {
      "metadata": {},
      "cell_type": "markdown",
      "source": "## 1. Install some necessary packages"
    },
    {
      "metadata": {
        "trusted": false
      },
      "cell_type": "code",
      "source": "!pip install -r ./requirements.txt",
      "execution_count": 1,
      "outputs": [
        {
          "name": "stdout",
          "output_type": "stream",
          "text": "Requirement already satisfied: numpy in /home/nbuser/anaconda3_501/lib/python3.6/site-packages (from -r ../requirements.txt (line 1)) (1.15.0)\nRequirement already satisfied: scipy in /home/nbuser/anaconda3_501/lib/python3.6/site-packages (from -r ../requirements.txt (line 2)) (0.19.1)\nRequirement already satisfied: matplotlib in /home/nbuser/anaconda3_501/lib/python3.6/site-packages (from -r ../requirements.txt (line 3)) (2.1.1)\nRequirement already satisfied: Pillow in /home/nbuser/anaconda3_501/lib/python3.6/site-packages (from -r ../requirements.txt (line 4)) (4.3.0)\nRequirement already satisfied: ipywidgets>=0.6.0 in /home/nbuser/anaconda3_501/lib/python3.6/site-packages (from -r ../requirements.txt (line 5)) (7.2.1)\nRequirement already satisfied: requests in /home/nbuser/anaconda3_501/lib/python3.6/site-packages (from -r ../requirements.txt (line 6)) (2.18.4)\nRequirement already satisfied: SimPEG in /home/nbuser/anaconda3_501/lib/python3.6/site-packages (from -r ../requirements.txt (line 7)) (0.9.2)\nRequirement already satisfied: em_examples in /home/nbuser/anaconda3_501/lib/python3.6/site-packages (from -r ../requirements.txt (line 8)) (0.0.30)\nRequirement already satisfied: empymod in /home/nbuser/anaconda3_501/lib/python3.6/site-packages (from -r ../requirements.txt (line 9)) (1.7.3)\nRequirement already satisfied: deepdish in /home/nbuser/anaconda3_501/lib/python3.6/site-packages (from -r ../requirements.txt (line 10)) (0.3.6)\nRequirement already satisfied: pymatsolver>=0.1.2 in /home/nbuser/anaconda3_501/lib/python3.6/site-packages (from -r ../requirements.txt (line 11)) (0.1.2)\nRequirement already satisfied: six>=1.10 in /home/nbuser/anaconda3_501/lib/python3.6/site-packages (from matplotlib->-r ../requirements.txt (line 3)) (1.11.0)\nRequirement already satisfied: python-dateutil>=2.0 in /home/nbuser/anaconda3_501/lib/python3.6/site-packages (from matplotlib->-r ../requirements.txt (line 3)) (2.6.1)\nRequirement already satisfied: pytz in /home/nbuser/anaconda3_501/lib/python3.6/site-packages (from matplotlib->-r ../requirements.txt (line 3)) (2017.2)\nRequirement already satisfied: cycler>=0.10 in /home/nbuser/anaconda3_501/lib/python3.6/site-packages (from matplotlib->-r ../requirements.txt (line 3)) (0.10.0)\nRequirement already satisfied: pyparsing!=2.0.4,!=2.1.2,!=2.1.6,>=2.0.1 in /home/nbuser/anaconda3_501/lib/python3.6/site-packages (from matplotlib->-r ../requirements.txt (line 3)) (2.2.0)\nRequirement already satisfied: olefile in /home/nbuser/anaconda3_501/lib/python3.6/site-packages (from Pillow->-r ../requirements.txt (line 4)) (0.44)\nRequirement already satisfied: ipykernel>=4.5.1 in /home/nbuser/anaconda3_501/lib/python3.6/site-packages (from ipywidgets>=0.6.0->-r ../requirements.txt (line 5)) (4.7.0)\nRequirement already satisfied: traitlets>=4.3.1 in /home/nbuser/anaconda3_501/lib/python3.6/site-packages (from ipywidgets>=0.6.0->-r ../requirements.txt (line 5)) (4.3.2)\nRequirement already satisfied: nbformat>=4.2.0 in /home/nbuser/anaconda3_501/lib/python3.6/site-packages (from ipywidgets>=0.6.0->-r ../requirements.txt (line 5)) (4.4.0)\nRequirement already satisfied: widgetsnbextension~=3.2.0 in /home/nbuser/anaconda3_501/lib/python3.6/site-packages (from ipywidgets>=0.6.0->-r ../requirements.txt (line 5)) (3.2.1)\nRequirement already satisfied: ipython>=4.0.0 in /home/nbuser/anaconda3_501/lib/python3.6/site-packages (from ipywidgets>=0.6.0->-r ../requirements.txt (line 5)) (6.2.1)\nRequirement already satisfied: chardet<3.1.0,>=3.0.2 in /home/nbuser/anaconda3_501/lib/python3.6/site-packages (from requests->-r ../requirements.txt (line 6)) (3.0.4)\nRequirement already satisfied: idna<2.7,>=2.5 in /home/nbuser/anaconda3_501/lib/python3.6/site-packages (from requests->-r ../requirements.txt (line 6)) (2.6)\nRequirement already satisfied: urllib3<1.23,>=1.21.1 in /home/nbuser/anaconda3_501/lib/python3.6/site-packages (from requests->-r ../requirements.txt (line 6)) (1.22)\nRequirement already satisfied: certifi>=2017.4.17 in /home/nbuser/anaconda3_501/lib/python3.6/site-packages (from requests->-r ../requirements.txt (line 6)) (2017.7.27.1)\nRequirement already satisfied: discretize>=0.2.0 in /home/nbuser/anaconda3_501/lib/python3.6/site-packages (from SimPEG->-r ../requirements.txt (line 7)) (0.3.2)\nRequirement already satisfied: vectormath>=0.2.0 in /home/nbuser/anaconda3_501/lib/python3.6/site-packages (from SimPEG->-r ../requirements.txt (line 7)) (0.2.0)\nRequirement already satisfied: properties>=0.5.2 in /home/nbuser/anaconda3_501/lib/python3.6/site-packages (from SimPEG->-r ../requirements.txt (line 7)) (0.5.3)\nRequirement already satisfied: cython in /home/nbuser/anaconda3_501/lib/python3.6/site-packages (from SimPEG->-r ../requirements.txt (line 7)) (0.26.1)\nRequirement already satisfied: geoana>=0.0.4 in /home/nbuser/anaconda3_501/lib/python3.6/site-packages (from SimPEG->-r ../requirements.txt (line 7)) (0.0.5)\nRequirement already satisfied: future in /home/nbuser/anaconda3_501/lib/python3.6/site-packages (from em_examples->-r ../requirements.txt (line 8)) (0.16.0)\nRequirement already satisfied: jupyter in /home/nbuser/anaconda3_501/lib/python3.6/site-packages (from em_examples->-r ../requirements.txt (line 8)) (1.0.0)\nRequirement already satisfied: tables in /home/nbuser/anaconda3_501/lib/python3.6/site-packages (from deepdish->-r ../requirements.txt (line 10)) (3.4.4)\nRequirement already satisfied: pyMKL>=0.0.3 in /home/nbuser/anaconda3_501/lib/python3.6/site-packages (from pymatsolver>=0.1.2->-r ../requirements.txt (line 11)) (0.0.3)\nRequirement already satisfied: jupyter_client in /home/nbuser/anaconda3_501/lib/python3.6/site-packages (from ipykernel>=4.5.1->ipywidgets>=0.6.0->-r ../requirements.txt (line 5)) (5.1.0)\nRequirement already satisfied: tornado>=4.0 in /home/nbuser/anaconda3_501/lib/python3.6/site-packages (from ipykernel>=4.5.1->ipywidgets>=0.6.0->-r ../requirements.txt (line 5)) (4.5.2)\nRequirement already satisfied: ipython_genutils in /home/nbuser/anaconda3_501/lib/python3.6/site-packages (from traitlets>=4.3.1->ipywidgets>=0.6.0->-r ../requirements.txt (line 5)) (0.2.0)\nRequirement already satisfied: decorator in /home/nbuser/anaconda3_501/lib/python3.6/site-packages (from traitlets>=4.3.1->ipywidgets>=0.6.0->-r ../requirements.txt (line 5)) (4.1.2)\nRequirement already satisfied: jsonschema!=2.5.0,>=2.4 in /home/nbuser/anaconda3_501/lib/python3.6/site-packages (from nbformat>=4.2.0->ipywidgets>=0.6.0->-r ../requirements.txt (line 5)) (2.6.0)\nRequirement already satisfied: jupyter_core in /home/nbuser/anaconda3_501/lib/python3.6/site-packages (from nbformat>=4.2.0->ipywidgets>=0.6.0->-r ../requirements.txt (line 5)) (4.4.0)\nRequirement already satisfied: notebook>=4.4.1 in /home/nbuser/anaconda3_501/lib/python3.6/site-packages (from widgetsnbextension~=3.2.0->ipywidgets>=0.6.0->-r ../requirements.txt (line 5)) (5.0.0)\nRequirement already satisfied: setuptools>=18.5 in /home/nbuser/anaconda3_501/lib/python3.6/site-packages (from ipython>=4.0.0->ipywidgets>=0.6.0->-r ../requirements.txt (line 5)) (40.0.0)\nRequirement already satisfied: jedi>=0.10 in /home/nbuser/anaconda3_501/lib/python3.6/site-packages (from ipython>=4.0.0->ipywidgets>=0.6.0->-r ../requirements.txt (line 5)) (0.10.2)\nRequirement already satisfied: pickleshare in /home/nbuser/anaconda3_501/lib/python3.6/site-packages (from ipython>=4.0.0->ipywidgets>=0.6.0->-r ../requirements.txt (line 5)) (0.7.4)\nRequirement already satisfied: simplegeneric>0.8 in /home/nbuser/anaconda3_501/lib/python3.6/site-packages (from ipython>=4.0.0->ipywidgets>=0.6.0->-r ../requirements.txt (line 5)) (0.8.1)\nRequirement already satisfied: prompt_toolkit<2.0.0,>=1.0.4 in /home/nbuser/anaconda3_501/lib/python3.6/site-packages (from ipython>=4.0.0->ipywidgets>=0.6.0->-r ../requirements.txt (line 5)) (1.0.15)\nRequirement already satisfied: pygments in /home/nbuser/anaconda3_501/lib/python3.6/site-packages (from ipython>=4.0.0->ipywidgets>=0.6.0->-r ../requirements.txt (line 5)) (2.2.0)\nRequirement already satisfied: pexpect in /home/nbuser/anaconda3_501/lib/python3.6/site-packages (from ipython>=4.0.0->ipywidgets>=0.6.0->-r ../requirements.txt (line 5)) (4.2.1)\nRequirement already satisfied: utm in /home/nbuser/anaconda3_501/lib/python3.6/site-packages (from geoana>=0.0.4->SimPEG->-r ../requirements.txt (line 7)) (0.4.2)\nRequirement already satisfied: nbconvert in /home/nbuser/anaconda3_501/lib/python3.6/site-packages (from jupyter->em_examples->-r ../requirements.txt (line 8)) (5.3.1)\nRequirement already satisfied: jupyter-console in /home/nbuser/anaconda3_501/lib/python3.6/site-packages (from jupyter->em_examples->-r ../requirements.txt (line 8)) (5.2.0)\nRequirement already satisfied: qtconsole in /home/nbuser/anaconda3_501/lib/python3.6/site-packages (from jupyter->em_examples->-r ../requirements.txt (line 8)) (4.3.1)\n"
        },
        {
          "name": "stdout",
          "output_type": "stream",
          "text": "Requirement already satisfied: numexpr>=2.5.2 in /home/nbuser/anaconda3_501/lib/python3.6/site-packages (from tables->deepdish->-r ../requirements.txt (line 10)) (2.6.2)\r\nRequirement already satisfied: pyzmq>=13 in /home/nbuser/anaconda3_501/lib/python3.6/site-packages (from jupyter_client->ipykernel>=4.5.1->ipywidgets>=0.6.0->-r ../requirements.txt (line 5)) (16.0.2)\r\nRequirement already satisfied: wcwidth in /home/nbuser/anaconda3_501/lib/python3.6/site-packages (from prompt_toolkit<2.0.0,>=1.0.4->ipython>=4.0.0->ipywidgets>=0.6.0->-r ../requirements.txt (line 5)) (0.1.7)\r\nRequirement already satisfied: mistune>=0.7.4 in /home/nbuser/anaconda3_501/lib/python3.6/site-packages (from nbconvert->jupyter->em_examples->-r ../requirements.txt (line 8)) (0.7.4)\r\nRequirement already satisfied: jinja2 in /home/nbuser/anaconda3_501/lib/python3.6/site-packages (from nbconvert->jupyter->em_examples->-r ../requirements.txt (line 8)) (2.9.6)\r\nRequirement already satisfied: entrypoints>=0.2.2 in /home/nbuser/anaconda3_501/lib/python3.6/site-packages (from nbconvert->jupyter->em_examples->-r ../requirements.txt (line 8)) (0.2.3)\r\nRequirement already satisfied: bleach in /home/nbuser/anaconda3_501/lib/python3.6/site-packages (from nbconvert->jupyter->em_examples->-r ../requirements.txt (line 8)) (2.0.0)\r\nRequirement already satisfied: pandocfilters>=1.4.1 in /home/nbuser/anaconda3_501/lib/python3.6/site-packages (from nbconvert->jupyter->em_examples->-r ../requirements.txt (line 8)) (1.4.2)\r\nRequirement already satisfied: testpath in /home/nbuser/anaconda3_501/lib/python3.6/site-packages (from nbconvert->jupyter->em_examples->-r ../requirements.txt (line 8)) (0.3.1)\r\nRequirement already satisfied: MarkupSafe>=0.23 in /home/nbuser/anaconda3_501/lib/python3.6/site-packages (from jinja2->nbconvert->jupyter->em_examples->-r ../requirements.txt (line 8)) (1.0)\r\nRequirement already satisfied: html5lib>=0.99999999 in /home/nbuser/anaconda3_501/lib/python3.6/site-packages (from bleach->nbconvert->jupyter->em_examples->-r ../requirements.txt (line 8)) (0.999999999)\r\nRequirement already satisfied: webencodings in /home/nbuser/anaconda3_501/lib/python3.6/site-packages (from html5lib>=0.99999999->bleach->nbconvert->jupyter->em_examples->-r ../requirements.txt (line 8)) (0.5.1)\r\n"
        }
      ]
    },
    {
      "metadata": {},
      "cell_type": "markdown",
      "source": "## 2. Explore the LayeredEarth app"
    },
    {
      "metadata": {
        "trusted": false
      },
      "cell_type": "code",
      "source": "from em_examples import DCLayers\nfrom IPython.display import display\n%matplotlib inline",
      "execution_count": 1,
      "outputs": [
        {
          "name": "stderr",
          "output_type": "stream",
          "text": "/home/nbuser/anaconda3_501/lib/python3.6/importlib/_bootstrap.py:219: RuntimeWarning: numpy.dtype size changed, may indicate binary incompatibility. Expected 96, got 88\n  return f(*args, **kwds)\n/home/nbuser/anaconda3_501/lib/python3.6/importlib/_bootstrap.py:219: RuntimeWarning: numpy.dtype size changed, may indicate binary incompatibility. Expected 96, got 88\n  return f(*args, **kwds)\n"
        }
      ]
    },
    {
      "metadata": {
        "trusted": false
      },
      "cell_type": "code",
      "source": "from matplotlib import rcParams\nrcParams['font.size'] = 14",
      "execution_count": 2,
      "outputs": []
    },
    {
      "metadata": {},
      "cell_type": "markdown",
      "source": "### Parameters:\n\n - **A**: (+) Current electrode  location\n - **B**: (-) Current electrode  location\n - **M**: (+) Potential electrode  location\n - **N**: (-) Potential electrode  location\n - **$\\rho_1$**: Resistivity of the first layer\n - **$\\rho_2$**: Resistivity of the second layer\n - **h**: Thickness of the first layer\n - **Plot**: Choice of 2D plot (Model, Potential, Electric field, Currents)\n"
    },
    {
      "metadata": {
        "trusted": false
      },
      "cell_type": "code",
      "source": "out = DCLayers.plot_layer_potentials_app()\ndisplay(out)",
      "execution_count": 3,
      "outputs": [
        {
          "data": {
            "application/vnd.jupyter.widget-view+json": {
              "model_id": "40f85189c8f84e96933d6ff38495619e",
              "version_major": 2,
              "version_minor": 0
            },
            "text/plain": "MyApp(children=(FloatSlider(value=-30.0, continuous_update=False, description='A', max=30.0, min=-30.0, step=1…"
          },
          "metadata": {},
          "output_type": "display_data"
        }
      ]
    },
    {
      "metadata": {},
      "cell_type": "markdown",
      "source": "<font color = red>**Task 1**</font>: Create a <font color = blue>two-layer</font> Earth model. Set the thickness of the first layer to <font color = blue> 10 m </font>. Also, set the resistivity of the first layer to <font color = blue>100</font> Ohm\\*m and the resistivity of underlying halfspace to <font color = blue>500 </font> Ohm\\*m. <font color = red>**(10 points)**</font>"
    },
    {
      "metadata": {},
      "cell_type": "markdown",
      "source": "<font color = red>**Task 2**</font>: Place the <font color = blue>**A**</font>, <font color = blue>**B**</font>, <font color = blue>**M**</font> and <font color = blue>**N**</font> electrodes at <font color = red>-5 </font>m, <font color=red>5</font> m, <font color=red>-2</font> m and <font color = red>2</font> m, respectively. Calculate the apparent resistivity based on the potential values shown in the upper panel (i.e., 3.1 and -3.1 Volts). Note that the current that was injected into the ground is 1 A. Compare your apparent resistivity with the value in the grey box at the upper right corner in the upper panel. Your answer should be very close to what is shown there. <font color = red>**(10 points)**</font>\n<br>\n<font color = red>**HINT**</font>: If you forget how to calculate the apparent resistivity, please refer to the lecture slides."
    },
    {
      "metadata": {},
      "cell_type": "markdown",
      "source": "(write down your answer to Task 2 here)\n"
    },
    {
      "metadata": {},
      "cell_type": "markdown",
      "source": "<font color = red>**Task 3**</font>: Change the locations of <font color=blue>**A**</font> and <font color=blue>**B**</font> electrodes to <font color = red>-10</font> m and <font color=red>10</font> m, respectively, while keeping the M and N electrodes at their current locations (i.e., DO NOT move M and N electrodes). Answer the following two questions <font color=red>**(10 points)**</font>: \n<br>\n1. How do the potential values, measured at M and N electrodes, change as we increase the distance between the two current electrodes (i.e., the A and B electrodes)?\n2. How does the apparent resistivity change?"
    },
    {
      "metadata": {},
      "cell_type": "markdown",
      "source": "(write down your answer to Task 3 here)\n"
    },
    {
      "metadata": {},
      "cell_type": "markdown",
      "source": "<font color = red>**Task 4**</font>: Now place the current electrodes at <font color=red>-20</font> m and <font color=red>20</font> m. How do the potential values measured at M and N electrodes change? How does the apparent resistivity change? What if we put the current electrodes at <font color=red>-30</font> m and <font color=red>30</font> m? <font color=red>**(10 points)**</font>: "
    },
    {
      "metadata": {},
      "cell_type": "markdown",
      "source": "(write down your answer to Task 4 here)\n"
    },
    {
      "metadata": {},
      "cell_type": "markdown",
      "source": "<font color = red>**Task 5**</font>: Compare the current density distribution from the above experiment in which we progressively increase the distance between the two current electrodes from 10 m to 20 m to 30 m and finally to 60 m. Summarize your observations below. <br>\n<br>\nBased on your observations, what should we do if we want to detect a target in the deeper subsurface. <font color=red>**(20 points)**</font>"
    },
    {
      "metadata": {},
      "cell_type": "markdown",
      "source": "(write down your answer to Task 5 here)\n"
    },
    {
      "metadata": {},
      "cell_type": "markdown",
      "source": "## 3. Explore the Plate app"
    },
    {
      "metadata": {
        "trusted": false
      },
      "cell_type": "code",
      "source": "from em_examples.DCWidgetPlate2_5D import plate_app",
      "execution_count": 4,
      "outputs": []
    },
    {
      "metadata": {},
      "cell_type": "markdown",
      "source": "### Set up\n\n<img src=\"https://github.com/geoscixyz/em_apps/blob/master/images/DC_PlateApp_Setup.png?raw=true\">"
    },
    {
      "metadata": {},
      "cell_type": "markdown",
      "source": "### Parameters:\n\n - **survey**: Type of survey\n - **A**: (+) Current electrode  location\n - **B**: (-) Current electrode  location\n - **M**: (+) Potential electrode  location\n - **N**: (-) Potential electrode  location\n - **dx**: width of plate\n - **dz**: height/thickness of plate\n - **xc**: x location of plate center\n - **zc**: z location of plate center\n - **$\\theta$**: rotation angle of plate from the horizontal\n - **$\\rho_1$**: Resistivity of the halfspace\n - **$\\rho_2$**: Resistivity of the plate\n - **Field**: Field to visualize\n - **Type**: which part of the field\n - **Scale**: Linear or Log Scale visualization\n \n###  **Do not forget to hit <font color=red>Run Interact</font> to update the figure after you made modifications**"
    },
    {
      "metadata": {
        "trusted": false
      },
      "cell_type": "code",
      "source": "app = plate_app();",
      "execution_count": 5,
      "outputs": [
        {
          "data": {
            "application/vnd.jupyter.widget-view+json": {
              "model_id": "3b62730262c74a15bb9e93df356d562f",
              "version_major": 2,
              "version_minor": 0
            },
            "text/plain": "interactive(children=(ToggleButtons(description='survey', options=('Dipole-Dipole', 'Dipole-Pole', 'Pole-Dipol…"
          },
          "metadata": {},
          "output_type": "display_data"
        }
      ]
    },
    {
      "metadata": {},
      "cell_type": "markdown",
      "source": "<font color = red>**Task 6**</font>: Create a model that has a plate embedded in a homogeneous halfspace. The resistivity for the homogeneous background is 500 Ohm\\*m, and that for the plate is 10 Ohm\\*m. To create the model, you will also need the following parameters: dx = 10 m, dz = 20 m, xc = 0 m, zc = -20 m, and $\\theta = 21^{\\circ}$.<br>\n<br>\nTo simulate the DC survey, let us place the A, B, M and N electrodes at -30.25 m, 30.25 m, -10.25 m, and 10.25 m.<br>\n<br>\nWhat do the <font color=red>**secondary**</font> **charges** look like? Include a picture of the secondary charges below.  <font color=red>**(20 points)**</font>\n<br>\n<font color = red>**HINT**: To include a picture, follow the following instructions: <br>\n    1. Right click the picture you want to save, and then save the picture to your computer.\n    2. Rename the picture (e.g., charge.png).\n    3. Click the 'File' button on the upper left corner. In the drop-down list, click 'Open ...'. You will be directed to a new webpage. \n    4. Click the 'upload' button to the right.\n    5. Then upload the picture that you just saved. If successful, you will see 'charge.png' appear in the list.\n    6. Come back to the current webpage, enter '<img src = 'charge.png'>' in a new Markdown cell, and then click 'Run'."
    },
    {
      "metadata": {},
      "cell_type": "markdown",
      "source": "(include your picture here)\n"
    },
    {
      "metadata": {},
      "cell_type": "markdown",
      "source": "<font color = red>**Task 7**</font>: Swap A and B electrodes and keep everything else unchanged. How do the secondary charges change? Also, include a picture of the secondary charges below. <font color=red>**(10 points)**</font>"
    },
    {
      "metadata": {
        "trusted": false
      },
      "cell_type": "code",
      "source": "(include your picture here)\n",
      "execution_count": null,
      "outputs": []
    },
    {
      "metadata": {},
      "cell_type": "markdown",
      "source": "Your picture should look very similar (ideally, identical) to the following one.\n<img src = 'charge_plate.png'>"
    },
    {
      "metadata": {},
      "cell_type": "markdown",
      "source": "<font color = red>**Task 8**</font>: Now that you have observed the opposite pattern of the secondary charge distribution when we exchange A and B electrodes, how would you explain it to someone who is not familar with electrical methods? <font color=red>**(10 points)**</font>"
    },
    {
      "metadata": {},
      "cell_type": "markdown",
      "source": "## 4. Bonus task\n<font color=red>**BONUS**</font>: There are many interesting questions you can ask and observations you can make by playing with these interactive apps. In this lab, I only asked a few questions above about the currents, apparent resistivities and charges. To get the bonus points, I encourge you to be creative by creating your own models and making some interesting and insightful obsevations. <font color=red>**(10 points)**</font>\n<br>\n<font color = red>**HINT**</font>: We have explored the LayeredEarth and Plate apps. You might want to explore other apps for the bonus task. I have included one app below for you to explore. This app allows you to create a layered Earth model with a cylinder embedded. "
    },
    {
      "metadata": {},
      "cell_type": "markdown",
      "source": "### Parameters\n - **survey**: Type of survey\n - **A**: Electrode A (+) location\n - **B**: Electrode B (-) location\n - **M**: Electrode A (+) location\n - **N**: Electrode B (-) location\n - **$dz_{layer}$**: thickness of the resistive layer\n - **$zc_{ayer}$**: z location of the resistive layer\n - **xc**: x location of cylinder center\n - **zc**: z location of cylinder center\n - **$\\rho_{1}$**: Resistivity of the half-space\n - **$\\rho_{2}$**: Resistivity of the layer\n - **$\\rho_{3}$**: Resistivity of the cylinder\n - **Field**: Field to visualize\n - **Type**: which part of the field\n - **Scale**: Linear or Log Scale visualization\n \n###  **Do not forget to hit Run Interact to update the figure after you made modifications**"
    },
    {
      "metadata": {
        "trusted": false
      },
      "cell_type": "code",
      "source": "from em_examples.DCWidgetResLayer2_5D import *\napp = ResLayer_app()",
      "execution_count": 6,
      "outputs": [
        {
          "data": {
            "application/vnd.jupyter.widget-view+json": {
              "model_id": "1aa1f39db707473c974a9fbeb93607fc",
              "version_major": 2,
              "version_minor": 0
            },
            "text/plain": "interactive(children=(ToggleButtons(description='survey', options=('Dipole-Dipole', 'Dipole-Pole', 'Pole-Dipol…"
          },
          "metadata": {},
          "output_type": "display_data"
        }
      ]
    },
    {
      "metadata": {},
      "cell_type": "markdown",
      "source": "## Acknowledgments\nThe apps that were used in this lab were developed by the [SimPEG](http://www.simpeg.xyz/) team. Most members are graduate students from [UBC-GIF](https://gif.eos.ubc.ca/about). I would like all SimPEG team members for their hard and awesome work!\n\n<img src = \"simpegteam.PNG\">"
    },
    {
      "metadata": {
        "trusted": true
      },
      "cell_type": "code",
      "source": "",
      "execution_count": null,
      "outputs": []
    }
  ],
  "metadata": {
    "kernelspec": {
      "name": "python36",
      "display_name": "Python 3.6",
      "language": "python"
    },
    "language_info": {
      "mimetype": "text/x-python",
      "nbconvert_exporter": "python",
      "name": "python",
      "pygments_lexer": "ipython3",
      "version": "3.6.6",
      "file_extension": ".py",
      "codemirror_mode": {
        "version": 3,
        "name": "ipython"
      }
    }
  },
  "nbformat": 4,
  "nbformat_minor": 2
}
