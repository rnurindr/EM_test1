{
  "cells": [
    {
      "metadata": {},
      "cell_type": "markdown",
      "source": "# Understanding time-domain EM with an inductive source"
    },
    {
      "metadata": {},
      "cell_type": "markdown",
      "source": "In this lab exercise, we focus on time-domain EM with an inductive source such as a vertical magnetic dipole. The objective of this lab exercise is to help students develop a better understanding of time-domain EM, with the help of the interactive apps that allow students to adjust model and survey parameters and simulate EM fields and fluxes. <br>\n\nAfter finishing this exercise, students will understand <br>\n* how the currents and magnetic field propagate in a homogeneous halfspace (Task 1 and 6); <br>\n* how the background conductivity affects the propagation of the currents (Task 2, 8 and 9); <br>\n* how the height and moment of the inductive source affect the strength of the EM signal (Task 3); <br>\n* how the currents and magnetic field propagate in a layered medium (Task 4, 5 and 7). <br>\n* how a near-surface conductive layer affect the detection of a deep conductive body (Task 10). <br>\n\nAuthor: Jiajia Sun at University of Houston, October 9nd, 2018."
    },
    {
      "metadata": {},
      "cell_type": "markdown",
      "source": "## 1. Install dependent packages"
    },
    {
      "metadata": {
        "trusted": false
      },
      "cell_type": "code",
      "source": "!pip install -r ./requirements.txt",
      "execution_count": 2,
      "outputs": [
        {
          "name": "stdout",
          "output_type": "stream",
          "text": "Requirement already satisfied: numpy in c:\\program files\\anaconda3\\lib\\site-packages (from -r ./requirements.txt (line 1)) (1.12.1)\nRequirement already satisfied: scipy in c:\\program files\\anaconda3\\lib\\site-packages (from -r ./requirements.txt (line 2)) (0.19.0)\nRequirement already satisfied: matplotlib in c:\\program files\\anaconda3\\lib\\site-packages (from -r ./requirements.txt (line 3)) (2.0.2)\nRequirement already satisfied: Pillow in c:\\program files\\anaconda3\\lib\\site-packages (from -r ./requirements.txt (line 4)) (4.1.1)\nRequirement already satisfied: ipywidgets>=0.6.0 in c:\\program files\\anaconda3\\lib\\site-packages (from -r ./requirements.txt (line 5)) (6.0.0)\nRequirement already satisfied: requests in c:\\program files\\anaconda3\\lib\\site-packages (from -r ./requirements.txt (line 6)) (2.14.2)\nRequirement already satisfied: SimPEG in c:\\users\\jsun29\\appdata\\roaming\\python\\python36\\site-packages (from -r ./requirements.txt (line 7)) (0.9.2)\nRequirement already satisfied: em_examples in c:\\users\\jsun29\\appdata\\roaming\\python\\python36\\site-packages (from -r ./requirements.txt (line 8)) (0.0.30)\nRequirement already satisfied: empymod in c:\\users\\jsun29\\appdata\\roaming\\python\\python36\\site-packages (from -r ./requirements.txt (line 9)) (1.7.3)\nRequirement already satisfied: deepdish in c:\\users\\jsun29\\appdata\\roaming\\python\\python36\\site-packages (from -r ./requirements.txt (line 10)) (0.3.6)\nRequirement already satisfied: pymatsolver>=0.1.2 in c:\\users\\jsun29\\appdata\\roaming\\python\\python36\\site-packages (from -r ./requirements.txt (line 11)) (0.1.2)\nRequirement already satisfied: six>=1.10 in c:\\program files\\anaconda3\\lib\\site-packages (from matplotlib->-r ./requirements.txt (line 3)) (1.10.0)\nRequirement already satisfied: python-dateutil in c:\\program files\\anaconda3\\lib\\site-packages (from matplotlib->-r ./requirements.txt (line 3)) (2.6.0)\nRequirement already satisfied: pytz in c:\\program files\\anaconda3\\lib\\site-packages (from matplotlib->-r ./requirements.txt (line 3)) (2017.2)\nRequirement already satisfied: cycler>=0.10 in c:\\program files\\anaconda3\\lib\\site-packages (from matplotlib->-r ./requirements.txt (line 3)) (0.10.0)\nRequirement already satisfied: pyparsing!=2.0.4,!=2.1.2,!=2.1.6,>=1.5.6 in c:\\program files\\anaconda3\\lib\\site-packages (from matplotlib->-r ./requirements.txt (line 3)) (2.1.4)\nRequirement already satisfied: olefile in c:\\program files\\anaconda3\\lib\\site-packages (from Pillow->-r ./requirements.txt (line 4)) (0.44)\nRequirement already satisfied: discretize>=0.2.0 in c:\\users\\jsun29\\appdata\\roaming\\python\\python36\\site-packages (from SimPEG->-r ./requirements.txt (line 7)) (0.3.2)\nRequirement already satisfied: ipython in c:\\program files\\anaconda3\\lib\\site-packages (from SimPEG->-r ./requirements.txt (line 7)) (5.3.0)\nRequirement already satisfied: vectormath>=0.2.0 in c:\\users\\jsun29\\appdata\\roaming\\python\\python36\\site-packages (from SimPEG->-r ./requirements.txt (line 7)) (0.2.0)\nRequirement already satisfied: geoana>=0.0.4 in c:\\users\\jsun29\\appdata\\roaming\\python\\python36\\site-packages (from SimPEG->-r ./requirements.txt (line 7)) (0.0.5)\nRequirement already satisfied: properties>=0.5.2 in c:\\users\\jsun29\\appdata\\roaming\\python\\python36\\site-packages (from SimPEG->-r ./requirements.txt (line 7)) (0.5.3)\nRequirement already satisfied: cython in c:\\program files\\anaconda3\\lib\\site-packages (from SimPEG->-r ./requirements.txt (line 7)) (0.25.2)\nRequirement already satisfied: future in c:\\users\\jsun29\\appdata\\roaming\\python\\python36\\site-packages (from em_examples->-r ./requirements.txt (line 8)) (0.16.0)\nRequirement already satisfied: jupyter in c:\\program files\\anaconda3\\lib\\site-packages (from em_examples->-r ./requirements.txt (line 8)) (1.0.0)\nRequirement already satisfied: tables in c:\\program files\\anaconda3\\lib\\site-packages (from deepdish->-r ./requirements.txt (line 10)) (3.2.2)\nRequirement already satisfied: pyMKL>=0.0.3 in c:\\users\\jsun29\\appdata\\roaming\\python\\python36\\site-packages (from pymatsolver>=0.1.2->-r ./requirements.txt (line 11)) (0.0.3)\nRequirement already satisfied: utm in c:\\users\\jsun29\\appdata\\roaming\\python\\python36\\site-packages (from geoana>=0.0.4->SimPEG->-r ./requirements.txt (line 7)) (0.4.2)\nRequirement already satisfied: numexpr>=2.4 in c:\\program files\\anaconda3\\lib\\site-packages (from tables->deepdish->-r ./requirements.txt (line 10)) (2.6.2)\n"
        },
        {
          "name": "stderr",
          "output_type": "stream",
          "text": "You are using pip version 18.0, however version 18.1 is available.\nYou should consider upgrading via the 'python -m pip install --upgrade pip' command.\n"
        }
      ]
    },
    {
      "metadata": {
        "trusted": false
      },
      "cell_type": "code",
      "source": "%pylab inline\nfrom IPython.display import display\nfrom em_examples.TDEMHorizontalLoopCylWidget import TDEMHorizontalLoopCylWidget\nAPP = TDEMHorizontalLoopCylWidget()",
      "execution_count": 4,
      "outputs": [
        {
          "name": "stdout",
          "output_type": "stream",
          "text": "Populating the interactive namespace from numpy and matplotlib\n"
        }
      ]
    },
    {
      "metadata": {
        "collapsed": true,
        "trusted": false
      },
      "cell_type": "code",
      "source": "from matplotlib import rcParams\nrcParams['font.size'] = 16",
      "execution_count": 5,
      "outputs": []
    },
    {
      "metadata": {},
      "cell_type": "markdown",
      "source": "## 2. Horizontal Current Loop over a Layered Earth (time domain)"
    },
    {
      "metadata": {},
      "cell_type": "markdown",
      "source": "### Setup\n\nThe geological scenario being modeled is shown in the figure below. Here, we assume the Earth is comprised of 3 layers. Each layer can have a different electrical conductivity ($\\sigma$). However, a constant magnetic susceptibility ($\\chi$) is used for all layers; where $\\mu_0$ is the magnetic permeability of free space and $\\mu = \\mu_0 (1 +\\chi)$. The thicknesses of the top two layers are given by $h_1$ and $h_2$, respectively.\n\nFor the time domain EM experiment in this lab, a transient VMD (i.e., vertical magnetic dipole) source (*Tx*) is used to excite the Earth, and the Earth's TEM response (secondary magnetic field) is measured by a receiver (*Rx*). In practice, the transmitter and receiver may be placed near the Earth's surface or in the air. The receiver measures secondary fields at a variety of times after the source is shut off.\n\n<img src=\"https://github.com/geoscixyz/em_apps/blob/master/images/LayeredEarthTEM.png?raw=true\"></img>\n"
    },
    {
      "metadata": {},
      "cell_type": "markdown",
      "source": "### Interactive App"
    },
    {
      "metadata": {
        "trusted": false
      },
      "cell_type": "code",
      "source": "Q1 = APP.InteractivePlane_Layer()\ndisplay(Q1)",
      "execution_count": 6,
      "outputs": [
        {
          "data": {
            "application/vnd.jupyter.widget-view+json": {
              "model_id": "f9626373ff924cb681e4d70c277b168a"
            }
          },
          "metadata": {},
          "output_type": "display_data"
        }
      ]
    },
    {
      "metadata": {},
      "cell_type": "markdown",
      "source": "### Tasks to be accomplished"
    },
    {
      "metadata": {},
      "cell_type": "markdown",
      "source": "<font color = red>**Task 1**</font>: Set $\\sigma_1$ = 0.01 $S/m$, $\\sigma_2$ = 0.01 $S/m$, $\\sigma_3$ = 0.01 $S/m$, $\\Delta x$ = 10 $m$, $\\Delta z$ = 20 $m$, $T_x$ radius = 2 $m$. And leave everything else unchanged. Now, step through the time steps by adjusting the time index slider. <font color = blue >(Be patient! Wait for a few seconds every time when you change the time index.) </font> What happens to the <font color=red>**Jy**</font> field as time progresses? Summarize your observations. <font color=red>**(10 points)**</font>\n<font color = red>**HINT:**</font>: Summarize your observations from the following aspects. (a) How doe the peak (and trough) location change? (b) How does the current density value change? (c) How does the spatial extent of the peak (and trough) change?"
    },
    {
      "metadata": {
        "collapsed": true
      },
      "cell_type": "markdown",
      "source": "(answer to Task 1) <br>\n"
    },
    {
      "metadata": {},
      "cell_type": "markdown",
      "source": "<font color = red>**Task 2**</font>: Keep the above parameters unchanged. Set the time index to 10 (which corresponds to $t$ = 0.01 $ms$). <font color=red>**(10 points)**</font> <br>\n- Report the vertical location of the maximum current density (i.e., the yellow or blue region). Note that due to the visualization of the current density, you probably cannot determine the vertical location precisely. A rough estimate would be good enough. <br>\n- Now set $\\sigma_1$ = 1 $S/m$, $\\sigma_2$ = 1 $S/m$, $\\sigma_3$ = 1 $S/m$, and keep everything else unchanged. How does the vertical location of the maximum current density change? Again, a rough estimate would be good enough. <br>\n- Explain the change using the concept of diffusion distance. <br>"
    },
    {
      "metadata": {},
      "cell_type": "markdown",
      "source": "<font color = red>**HINT**:</font> Recall that the diffusion distance is defined $z_{max} = 1260\\sqrt{\\frac{t}{\\sigma}}$, where $t$ is time, and $\\sigma$ is the conductivity of the medium. And diffusion distance tells you the depth of the peak of the EM field of interest (e.g., electrical field, magnetic field, or current density)."
    },
    {
      "metadata": {},
      "cell_type": "markdown",
      "source": "(answer to Task 2) <br>\n"
    },
    {
      "metadata": {},
      "cell_type": "markdown",
      "source": "<font color = red>**Task 3**</font>:Set $\\sigma_1$ = 0.01 $S/m$, $\\sigma_2$ = 0.01 $S/m$, $\\sigma_3$ = 0.01 $S/m$, $\\Delta z$ = 20 $m$, $T_x$ radius = 2 $m$, and time index = 10. <font color=red>**(10 points)**</font> <br>\n- Report the maximum current density value. <br>\n- Now set $\\Delta z$ = 50 $m$, and keep everything else unchanged. Report the maximum current density value. <br>\n- Set $\\Delta z$ = 20 $m$, and $T_x$ radius = 24 m. Keep everything else unchanged. Report the maximum current density value. <br> \n- Based on the above experiments, what should I do if I want to have stronger EM signals? "
    },
    {
      "metadata": {
        "collapsed": true
      },
      "cell_type": "markdown",
      "source": "(answer to Task 3:) <br>\n(1) When $\\Delta z$ = 20 $m$ and $T_x$ radius is 2 $m$, the maximum current density is 6.4e-8 $A/m^2$. <br>\n(2) When $\\Delta z$ = 50 $m$ and $T_x$ radius is 2 $m$, the maximum current density is 2.72e-8 $A/m^2$. <br>\n(3) When $\\Delta z$ = 20 $m$ and $T_x$ radius is 24 $m$, the maximum current density is 9.0e-6 $A/m^2$. <br>\n(4) If I want to have stronger EM signals, I should keep my current loop (i.e., my EM source) to be as close as possible to my target, and also use large loop (which increases moment). **NOTE:** Students do not have to mention the concept of moment."
    },
    {
      "metadata": {},
      "cell_type": "markdown",
      "source": "<font color = red>**Task 4**</font>: Set $\\sigma_1$ = 0.01 $S/m$, $\\sigma_2$ = 1 $S/m$, $\\sigma_3$ = 0.01 $S/m$, $\\Delta x$ = 10 $m$, $\\Delta z$ = 20 $m$, $T_x$ radius = 2 $m$. And leave everything else unchanged. <font color=red>**(10 points)**</font> <br>\n- At time index of 1 (i.e., when time = 1e-3 ms), where is the highest concentration of current density? <br>\n- Now, increase the time index to 2 (i.e., when time = 2e-3 ms). How does the current density change?  <br>\n- Keep increasing the time index to 4 (i.e., when time = 4e-3 ms). Where is the highest concentration of the current density? <br>\n- Now keep increasing the time index to 14, does the location of the highest concentration of current density change much? Why is that? (Hint: think about diffusion distance.) <br>\n- Increasing the time index to 30, 40, 50, 60 and 70. How does the current density distribution change?  <br>"
    },
    {
      "metadata": {
        "collapsed": true
      },
      "cell_type": "markdown",
      "source": "(answer to Task 4:) <br>\n"
    },
    {
      "metadata": {},
      "cell_type": "markdown",
      "source": "<font color = red>**Task 5**</font>: Set $\\sigma_2$ = 0.001 $S/m$, and leave everything else unchanged. <font color=red>**(10 points)**</font> <br>\n- At time index of 1 (i.e., when time = 1e-3 ms), where is the highest concentration of current density? <br>\n- Now, keep increasing the time index to 8 (i.e., when time = 8e-3 ms). How does the current density in the second and third layer change, as time index increases?  <br>\n- Increase the time index to 20 (i.e., when time = 6e-2 ms). Where is the highest concentration of the current density?  <br>\n- Increasing the time index to 30 and 40. How does the current density distribution change?  "
    },
    {
      "metadata": {},
      "cell_type": "markdown",
      "source": "(answer to Task 5:) <br>\n"
    },
    {
      "metadata": {},
      "cell_type": "markdown",
      "source": "<font color = red>**Task 6**</font>: Set $\\sigma_1$ = 0.01 $S/m$, $\\sigma_2$ = 0.01 $S/m$, $\\sigma_3$ = 0.01 $S/m$, $\\Delta z$ = 20 $m$, $T_x$ radius = 2 $m$. Now step through the time by adjusting the time index slider. Summarize your observations of the change of <font color = blue>**Bz**</font> field with time. <font color=red>**(10 points)**</font>\n<font color = red>**HINT:**</font>: Summarize your observations from the following aspects. (a) How does the location of the peak of the Bz field change? (b) How does the peak value of the Bz field change? (c) How does the spatial extent of the peak change?"
    },
    {
      "metadata": {
        "collapsed": true
      },
      "cell_type": "markdown",
      "source": "(answer to Task 6:) <br>\n\n"
    },
    {
      "metadata": {},
      "cell_type": "markdown",
      "source": "<font color = red>**Task 7**</font>: Set $\\sigma_1$ = 0.01 $S/m$, $\\sigma_2$ = 1 $S/m$, $\\sigma_3$ = 0.01 $S/m$, $\\Delta z$ = 20 $m$, $T_x$ radius = 2 $m$. Keep everything else unchagned. Now step through the time by adjusting the time index slider. Summarize your observations of the change of Bz field with time, and compare what you observed here with what you observed above in Task 6. Explain what you have observed for the Bz field when the second layer is conductive. <font color=red>**(10 points)**</font>\n<font color = red>**HINT:**</font> To make sense of the magnetic field and its change with time, think about the current density and its change with time that you observed in Task 4."
    },
    {
      "metadata": {
        "collapsed": true
      },
      "cell_type": "markdown",
      "source": "(answer to Task 7:) <br>\n\n"
    },
    {
      "metadata": {},
      "cell_type": "markdown",
      "source": "## 3. Horizontal Current Loop over a Sphere (time domain)"
    },
    {
      "metadata": {},
      "cell_type": "markdown",
      "source": "### Setup\n\nThe geological scenario being modeled is shown in the figure below. Here, the Earth is comprised of a sphere and a near-surface overburden layer within a homogeneous background. The depth to the layer is given by $d_1$ and $h$.\n\n<img src=\"https://github.com/geoscixyz/em_apps/blob/master/images/LayerSphereTEM.png?raw=true\"></img>"
    },
    {
      "metadata": {},
      "cell_type": "markdown",
      "source": "### Interactive App"
    },
    {
      "metadata": {
        "trusted": false
      },
      "cell_type": "code",
      "source": "Q2 = APP.InteractivePlane_Sphere()\ndisplay(Q2)",
      "execution_count": 7,
      "outputs": [
        {
          "data": {
            "application/vnd.jupyter.widget-view+json": {
              "model_id": "68aafeb197484de7b3229150ee5f2c13"
            }
          },
          "metadata": {},
          "output_type": "display_data"
        }
      ]
    },
    {
      "metadata": {},
      "cell_type": "markdown",
      "source": "### Tasks to be accomplished"
    },
    {
      "metadata": {},
      "cell_type": "markdown",
      "source": "<font color = red>**Task 8**</font>:  Set $\\sigma_b = \\sigma_1 = 0.01$ S/m, $\\sigma_2 = 1$ S/m, and $\\Delta z$ = 20 $m$. Use the default values for everything else.  While increasing *time index* starting from 1, summarize your observations of the change of the <font color=blue>**Jy**</font> field with time. <font color=red>**(10 points)**</font> <br>\n<font color = red>**HINT:**</font> Summarize your observations by making your observations at time index of 1, 2, 3, 4, 5, 20 and 30. But feel free to include any other observations you make."
    },
    {
      "metadata": {
        "collapsed": true
      },
      "cell_type": "markdown",
      "source": "(answer to Task 8:) <br>\n\n"
    },
    {
      "metadata": {},
      "cell_type": "markdown",
      "source": "<font color = red>**Task 9**</font>:  Set $\\sigma_b = \\sigma_1 = 0.1$ S/m, $\\sigma_2 = 1$ S/m, and $\\Delta z$ = 20 $m$. Keep everything else unchanged.  While increasing *time index* starting from 1, summarize your observations of the change of the Jy field with time, and compare your observations with what you observed in Task 8. <font color=red>**(10 points)**</font> <br>"
    },
    {
      "metadata": {},
      "cell_type": "markdown",
      "source": "(answer to Task 9:) <br>\n\n"
    },
    {
      "metadata": {},
      "cell_type": "markdown",
      "source": "<font color = red>**Task 10**</font>:  Set $\\sigma_b$ = 0.01 S/m, $\\sigma_1 = 1$ S/m, $\\sigma_2 = 1$ S/m, $d_1$ = 8 $m$, $h$ = 20 m, $d_2$ = 60, $R$ = 20 m, and $\\Delta z$ = 20 $m$. While increasing the time index starting from 1, answer the following questions: <font color=red>**(10 points)**</font>  <br>\n * Is the EM signal (e.g., the current density) able to effectively penetrate the conductive (i.e., the second) layer? Why/why not? <br>\n * At late time, where is the highest concentration of current density? <br>\n * If the conductivity of the surface layer is high enough, will we be able to see the conductive sphere? <br>\n"
    },
    {
      "metadata": {},
      "cell_type": "markdown",
      "source": "(answer to Task 10:) <br>\n\n"
    },
    {
      "metadata": {},
      "cell_type": "markdown",
      "source": "<font color = red>**BONUS**</font>:  Set $\\sigma_b = \\sigma_1 = 2$ S/m, $\\sigma_2 = 1$ S/m, $d_1$ = 0, $h$  = 20 m, $d_2$ = 60, $R$ = 30, and $\\Delta z$ = 20 $m$. Keep everything else unchanged.  While increasing *time index* starting from 1, summarize your observations of the change of the Jy field with time. In this case, do you think if we can detect the spherical body or not? <font color=red>**(10 points)**</font> <br>"
    },
    {
      "metadata": {},
      "cell_type": "markdown",
      "source": "(answer to Bonus task:) <br>\n\n"
    },
    {
      "metadata": {},
      "cell_type": "markdown",
      "source": "## Acknowledgments\nThe apps that were used in this lab were developed by the [SimPEG](http://www.simpeg.xyz/) team. Most members are graduate students from [UBC-GIF](https://gif.eos.ubc.ca/about). I would like all SimPEG team members for their hard and awesome work!\n\n<img src = \"simpegteam.PNG\">"
    },
    {
      "metadata": {
        "collapsed": true,
        "trusted": false
      },
      "cell_type": "code",
      "source": "",
      "execution_count": null,
      "outputs": []
    }
  ],
  "metadata": {
    "kernelspec": {
      "name": "python3",
      "display_name": "Python 3",
      "language": "python"
    },
    "language_info": {
      "mimetype": "text/x-python",
      "nbconvert_exporter": "python",
      "name": "python",
      "file_extension": ".py",
      "version": "3.5.4",
      "pygments_lexer": "ipython3",
      "codemirror_mode": {
        "version": 3,
        "name": "ipython"
      }
    }
  },
  "nbformat": 4,
  "nbformat_minor": 2
}