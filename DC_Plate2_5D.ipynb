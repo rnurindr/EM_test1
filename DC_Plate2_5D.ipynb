{
 "cells": [
  {
   "cell_type": "code",
   "execution_count": 1,
   "metadata": {},
   "outputs": [
    {
     "name": "stdout",
     "output_type": "stream",
     "text": [
      "Requirement already satisfied: numpy in /home/nbuser/anaconda3_420/lib/python3.5/site-packages (from -r ../requirements.txt (line 1)) (1.15.0)\n",
      "Requirement already satisfied: scipy in /home/nbuser/anaconda3_420/lib/python3.5/site-packages (from -r ../requirements.txt (line 2)) (1.1.0)\n",
      "Requirement already satisfied: matplotlib in /home/nbuser/anaconda3_420/lib/python3.5/site-packages (from -r ../requirements.txt (line 3)) (2.1.1)\n",
      "Requirement already satisfied: Pillow in /home/nbuser/anaconda3_420/lib/python3.5/site-packages (from -r ../requirements.txt (line 4)) (4.3.0)\n",
      "Requirement already satisfied: ipywidgets>=0.6.0 in /home/nbuser/anaconda3_420/lib/python3.5/site-packages (from -r ../requirements.txt (line 5)) (7.2.1)\n",
      "Requirement already satisfied: requests in /home/nbuser/anaconda3_420/lib/python3.5/site-packages (from -r ../requirements.txt (line 6)) (2.14.2)\n",
      "Requirement already satisfied: SimPEG in /home/nbuser/anaconda3_420/lib/python3.5/site-packages (from -r ../requirements.txt (line 7)) (0.9.2)\n",
      "Requirement already satisfied: em_examples in /home/nbuser/anaconda3_420/lib/python3.5/site-packages (from -r ../requirements.txt (line 8)) (0.0.30)\n",
      "Requirement already satisfied: empymod in /home/nbuser/anaconda3_420/lib/python3.5/site-packages (from -r ../requirements.txt (line 9)) (1.7.3)\n",
      "Requirement already satisfied: deepdish in /home/nbuser/anaconda3_420/lib/python3.5/site-packages (from -r ../requirements.txt (line 10)) (0.3.6)\n",
      "Requirement already satisfied: pymatsolver>=0.1.2 in /home/nbuser/anaconda3_420/lib/python3.5/site-packages (from -r ../requirements.txt (line 11)) (0.1.2)\n",
      "Requirement already satisfied: six>=1.10 in /home/nbuser/anaconda3_420/lib/python3.5/site-packages (from matplotlib->-r ../requirements.txt (line 3)) (1.10.0)\n",
      "Requirement already satisfied: python-dateutil>=2.0 in /home/nbuser/anaconda3_420/lib/python3.5/site-packages (from matplotlib->-r ../requirements.txt (line 3)) (2.5.3)\n",
      "Requirement already satisfied: pytz in /home/nbuser/anaconda3_420/lib/python3.5/site-packages (from matplotlib->-r ../requirements.txt (line 3)) (2016.6.1)\n",
      "Requirement already satisfied: cycler>=0.10 in /home/nbuser/anaconda3_420/lib/python3.5/site-packages (from matplotlib->-r ../requirements.txt (line 3)) (0.10.0)\n",
      "Requirement already satisfied: pyparsing!=2.0.4,!=2.1.2,!=2.1.6,>=2.0.1 in /home/nbuser/anaconda3_420/lib/python3.5/site-packages (from matplotlib->-r ../requirements.txt (line 3)) (2.1.4)\n",
      "Requirement already satisfied: olefile in /home/nbuser/anaconda3_420/lib/python3.5/site-packages (from Pillow->-r ../requirements.txt (line 4)) (0.44)\n",
      "Requirement already satisfied: ipykernel>=4.5.1 in /home/nbuser/anaconda3_420/lib/python3.5/site-packages (from ipywidgets>=0.6.0->-r ../requirements.txt (line 5)) (4.7.0)\n",
      "Requirement already satisfied: traitlets>=4.3.1 in /home/nbuser/anaconda3_420/lib/python3.5/site-packages (from ipywidgets>=0.6.0->-r ../requirements.txt (line 5)) (4.3.1)\n",
      "Requirement already satisfied: nbformat>=4.2.0 in /home/nbuser/anaconda3_420/lib/python3.5/site-packages (from ipywidgets>=0.6.0->-r ../requirements.txt (line 5)) (4.2.0)\n",
      "Requirement already satisfied: widgetsnbextension~=3.2.0 in /home/nbuser/anaconda3_420/lib/python3.5/site-packages (from ipywidgets>=0.6.0->-r ../requirements.txt (line 5)) (3.2.0)\n",
      "Requirement already satisfied: ipython>=4.0.0 in /home/nbuser/anaconda3_420/lib/python3.5/site-packages (from ipywidgets>=0.6.0->-r ../requirements.txt (line 5)) (6.2.1)\n",
      "Requirement already satisfied: cython in /home/nbuser/anaconda3_420/lib/python3.5/site-packages (from SimPEG->-r ../requirements.txt (line 7)) (0.24.1)\n",
      "Requirement already satisfied: properties>=0.5.2 in /home/nbuser/anaconda3_420/lib/python3.5/site-packages (from SimPEG->-r ../requirements.txt (line 7)) (0.5.3)\n",
      "Requirement already satisfied: vectormath>=0.2.0 in /home/nbuser/anaconda3_420/lib/python3.5/site-packages (from SimPEG->-r ../requirements.txt (line 7)) (0.2.0)\n",
      "Requirement already satisfied: discretize>=0.2.0 in /home/nbuser/anaconda3_420/lib/python3.5/site-packages (from SimPEG->-r ../requirements.txt (line 7)) (0.3.2)\n",
      "Requirement already satisfied: geoana>=0.0.4 in /home/nbuser/anaconda3_420/lib/python3.5/site-packages (from SimPEG->-r ../requirements.txt (line 7)) (0.0.5)\n",
      "Requirement already satisfied: future in /home/nbuser/anaconda3_420/lib/python3.5/site-packages (from em_examples->-r ../requirements.txt (line 8)) (0.16.0)\n",
      "Requirement already satisfied: jupyter in /home/nbuser/anaconda3_420/lib/python3.5/site-packages (from em_examples->-r ../requirements.txt (line 8)) (1.0.0)\n",
      "Requirement already satisfied: tables in /home/nbuser/anaconda3_420/lib/python3.5/site-packages (from deepdish->-r ../requirements.txt (line 10)) (3.4.2)\n",
      "Requirement already satisfied: pyMKL>=0.0.3 in /home/nbuser/anaconda3_420/lib/python3.5/site-packages (from pymatsolver>=0.1.2->-r ../requirements.txt (line 11)) (0.0.3)\n",
      "Requirement already satisfied: jupyter_client in /home/nbuser/anaconda3_420/lib/python3.5/site-packages (from ipykernel>=4.5.1->ipywidgets>=0.6.0->-r ../requirements.txt (line 5)) (5.1.0)\n",
      "Requirement already satisfied: tornado>=4.0 in /home/nbuser/anaconda3_420/lib/python3.5/site-packages (from ipykernel>=4.5.1->ipywidgets>=0.6.0->-r ../requirements.txt (line 5)) (4.4.1)\n",
      "Requirement already satisfied: notebook>=4.4.1 in /home/nbuser/anaconda3_420/lib/python3.5/site-packages (from widgetsnbextension~=3.2.0->ipywidgets>=0.6.0->-r ../requirements.txt (line 5)) (5.0.0)\n",
      "Requirement already satisfied: setuptools>=18.5 in /home/nbuser/anaconda3_420/lib/python3.5/site-packages (from ipython>=4.0.0->ipywidgets>=0.6.0->-r ../requirements.txt (line 5)) (40.0.0)\n",
      "Requirement already satisfied: jedi>=0.10 in /home/nbuser/anaconda3_420/lib/python3.5/site-packages (from ipython>=4.0.0->ipywidgets>=0.6.0->-r ../requirements.txt (line 5)) (0.11.0)\n",
      "Requirement already satisfied: decorator in /home/nbuser/anaconda3_420/lib/python3.5/site-packages (from ipython>=4.0.0->ipywidgets>=0.6.0->-r ../requirements.txt (line 5)) (4.0.10)\n",
      "Requirement already satisfied: pickleshare in /home/nbuser/anaconda3_420/lib/python3.5/site-packages (from ipython>=4.0.0->ipywidgets>=0.6.0->-r ../requirements.txt (line 5)) (0.7.4)\n",
      "Requirement already satisfied: simplegeneric>0.8 in /home/nbuser/anaconda3_420/lib/python3.5/site-packages (from ipython>=4.0.0->ipywidgets>=0.6.0->-r ../requirements.txt (line 5)) (0.8.1)\n",
      "Requirement already satisfied: prompt_toolkit<2.0.0,>=1.0.4 in /home/nbuser/anaconda3_420/lib/python3.5/site-packages (from ipython>=4.0.0->ipywidgets>=0.6.0->-r ../requirements.txt (line 5)) (1.0.15)\n",
      "Requirement already satisfied: pygments in /home/nbuser/anaconda3_420/lib/python3.5/site-packages (from ipython>=4.0.0->ipywidgets>=0.6.0->-r ../requirements.txt (line 5)) (2.1.3)\n",
      "Requirement already satisfied: pexpect in /home/nbuser/anaconda3_420/lib/python3.5/site-packages (from ipython>=4.0.0->ipywidgets>=0.6.0->-r ../requirements.txt (line 5)) (4.0.1)\n",
      "Requirement already satisfied: utm in /home/nbuser/anaconda3_420/lib/python3.5/site-packages (from geoana>=0.0.4->SimPEG->-r ../requirements.txt (line 7)) (0.4.2)\n",
      "Requirement already satisfied: numexpr>=2.5.2 in /home/nbuser/anaconda3_420/lib/python3.5/site-packages (from tables->deepdish->-r ../requirements.txt (line 10)) (2.6.2)\n",
      "Requirement already satisfied: jupyter_core in /home/nbuser/anaconda3_420/lib/python3.5/site-packages (from jupyter_client->ipykernel>=4.5.1->ipywidgets>=0.6.0->-r ../requirements.txt (line 5)) (4.4.0)\n",
      "Requirement already satisfied: pyzmq>=13 in /home/nbuser/anaconda3_420/lib/python3.5/site-packages (from jupyter_client->ipykernel>=4.5.1->ipywidgets>=0.6.0->-r ../requirements.txt (line 5)) (15.4.0)\n",
      "Requirement already satisfied: parso==0.1.* in /home/nbuser/anaconda3_420/lib/python3.5/site-packages (from jedi>=0.10->ipython>=4.0.0->ipywidgets>=0.6.0->-r ../requirements.txt (line 5)) (0.1.1)\n",
      "Requirement already satisfied: wcwidth in /home/nbuser/anaconda3_420/lib/python3.5/site-packages (from prompt_toolkit<2.0.0,>=1.0.4->ipython>=4.0.0->ipywidgets>=0.6.0->-r ../requirements.txt (line 5)) (0.1.7)\n"
     ]
    }
   ],
   "source": [
    "!pip install -r ../requirements.txt"
   ]
  },
  {
   "cell_type": "code",
   "execution_count": 1,
   "metadata": {},
   "outputs": [
    {
     "name": "stderr",
     "output_type": "stream",
     "text": [
      "/home/nbuser/anaconda3_420/lib/python3.5/importlib/_bootstrap.py:222: RuntimeWarning: numpy.dtype size changed, may indicate binary incompatibility. Expected 96, got 88\n",
      "  return f(*args, **kwds)\n",
      "/home/nbuser/anaconda3_420/lib/python3.5/importlib/_bootstrap.py:222: RuntimeWarning: numpy.dtype size changed, may indicate binary incompatibility. Expected 96, got 88\n",
      "  return f(*args, **kwds)\n"
     ]
    }
   ],
   "source": [
    "from em_examples.DCWidgetPlate2_5D import plate_app\n",
    "from IPython.display import display\n",
    "%matplotlib inline"
   ]
  },
  {
   "cell_type": "code",
   "execution_count": 2,
   "metadata": {},
   "outputs": [],
   "source": [
    "from matplotlib import rcParams\n",
    "rcParams['font.size'] = 16"
   ]
  },
  {
   "cell_type": "markdown",
   "metadata": {},
   "source": [
    "# Purpose \n",
    "\n",
    "For a direct current resistivity (DCR) survey, currents are injected into the earth, and flow. \n",
    "Depending upon the subsurface conductivity structures current flow in the earth will be distorted and charges will accumulate on interfaces between regions of different conductivites. These changes can be measurable at the sufurface electrodes. \n",
    "\n",
    "Here, we focus on a plate target embedded in a halfspace, and investigate what is happening in the earth when static currents are injected. Different from the sphere case, which is symmetric, \"coupling\" between the Tx, target (conductor or resistor), and Rx will be significanlty different with various scenarios and geometries. \n",
    "Using this app we can investigate what effect different targets and survey geometries have on the currents, electric fields, potentials, charges, and sensitivities."
   ]
  },
  {
   "cell_type": "markdown",
   "metadata": {},
   "source": [
    "# Set up\n",
    "\n",
    "<img src=\"https://github.com/geoscixyz/em_apps/blob/master/images/DC_PlateApp_Setup.png?raw=true\">"
   ]
  },
  {
   "cell_type": "markdown",
   "metadata": {},
   "source": [
    "# Questions\n",
    "\n",
    "- Is the potential difference measured by a dipole over a conductive (/resisitive) target higher or lower compared to the half-space reference?\n",
    "- how do the field lines bend in presence of a conductive (/resistive) target?\n",
    "- Compared to the positive and negative sources (A and B), how are oriented the positive and negative accumulated charges around a conductive (/resistive) target?\n",
    "- How would you describe the secondary fields pattern? Does it remind you of the response of an object fundamental to electromagnetics?"
   ]
  },
  {
   "cell_type": "markdown",
   "metadata": {},
   "source": [
    "# Plate app\n",
    "\n",
    "## Parameters:\n",
    "\n",
    " - **survey**: Type of survey\n",
    " - **A**: (+) Current electrode  location\n",
    " - **B**: (-) Current electrode  location\n",
    " - **M**: (+) Potential electrode  location\n",
    " - **N**: (-) Potential electrode  location\n",
    " - **dx**: width of plate\n",
    " - **dz**: height/thickness of plate\n",
    " - **xc**: x location of plate center\n",
    " - **zc**: z location of plate center\n",
    " - **$\\theta$**: rotation angle of plate from the horizontal\n",
    " - **$\\rho_1$**: Resistivity of the halfspace\n",
    " - **$\\rho_2$**: Resistivity of the plate\n",
    " - **Field**: Field to visualize\n",
    " - **Type**: which part of the field\n",
    " - **Scale**: Linear or Log Scale visualization\n",
    " \n",
    "###  **Do not forget to hit Run Interact to update the figure after you made modifications**"
   ]
  },
  {
   "cell_type": "code",
   "execution_count": 4,
   "metadata": {},
   "outputs": [
    {
     "data": {
      "application/vnd.jupyter.widget-view+json": {
       "model_id": "3d8ba279f454474593753c57074508e3",
       "version_major": 2,
       "version_minor": 0
      },
      "text/plain": [
       "interactive(children=(ToggleButtons(description='survey', options=('Dipole-Dipole', 'Dipole-Pole', 'Pole-Dipol…"
      ]
     },
     "metadata": {},
     "output_type": "display_data"
    }
   ],
   "source": [
    "app = plate_app();"
   ]
  },
  {
   "cell_type": "code",
   "execution_count": null,
   "metadata": {},
   "outputs": [],
   "source": []
  }
 ],
 "metadata": {
  "anaconda-cloud": {},
  "kernelspec": {
   "display_name": "Python 3",
   "language": "python",
   "name": "python3"
  },
  "language_info": {
   "codemirror_mode": {
    "name": "ipython",
    "version": 3
   },
   "file_extension": ".py",
   "mimetype": "text/x-python",
   "name": "python",
   "nbconvert_exporter": "python",
   "pygments_lexer": "ipython3",
   "version": "3.5.4"
  },
  "widgets": {
   "state": {
    "0e24801df98347a28f276077ded582ef": {
     "views": [
      {
       "cell_index": 5
      }
     ]
    }
   },
   "version": "1.2.0"
  }
 },
 "nbformat": 4,
 "nbformat_minor": 1
}
