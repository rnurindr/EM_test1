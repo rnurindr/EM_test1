{
 "cells": [
  {
   "cell_type": "markdown",
   "metadata": {},
   "source": [
    "# Understanding grounded source EM"
   ]
  },
  {
   "cell_type": "markdown",
   "metadata": {},
   "source": [
    "In this lab exercise, we are going to use an interactive EM app to simulate the MT response due to a layered Earth. The objectie is to help students develop a better understanding of how MT signals are affected by various factors such as frequencies, depths and resistivities. <br>\n",
    "\n",
    "After finishing this exercise, students will understand <br>\n",
    "* the concept of skin depth, and how to use skin depth to estimate the frequency range that is necessary to detect a target at a given depth;\n",
    "* the apparent resistivity and its change with frequency; \n",
    "* the phase and its change with frequency;\n",
    "* the sensitivity of MT signals to a resistor vs. a conductor;\n",
    "* how the depth of a conductor affects the signals;\n",
    "* the non-uniqueness problem assocated with the MT method;\n",
    "* how magnetic permeability affects MT response.\n",
    "\n",
    "Author: Jiajia Sun at University of Houston, Nov 20th, 2018."
   ]
  },
  {
   "cell_type": "code",
   "execution_count": 1,
   "metadata": {},
   "outputs": [
    {
     "name": "stdout",
     "output_type": "stream",
     "text": [
      "Requirement already satisfied: numpy in c:\\program files\\anaconda3\\lib\\site-packages (from -r ./requirements.txt (line 1)) (1.12.1)\n",
      "Requirement already satisfied: scipy in c:\\program files\\anaconda3\\lib\\site-packages (from -r ./requirements.txt (line 2)) (0.19.0)\n",
      "Requirement already satisfied: matplotlib in c:\\program files\\anaconda3\\lib\\site-packages (from -r ./requirements.txt (line 3)) (2.0.2)\n",
      "Requirement already satisfied: Pillow in c:\\program files\\anaconda3\\lib\\site-packages (from -r ./requirements.txt (line 4)) (5.3.0)\n",
      "Requirement already satisfied: ipywidgets>=0.6.0 in c:\\program files\\anaconda3\\lib\\site-packages (from -r ./requirements.txt (line 5)) (6.0.0)\n",
      "Requirement already satisfied: requests in c:\\program files\\anaconda3\\lib\\site-packages (from -r ./requirements.txt (line 6)) (2.14.2)\n",
      "Requirement already satisfied: SimPEG in c:\\users\\jsun29\\appdata\\roaming\\python\\python36\\site-packages (from -r ./requirements.txt (line 7)) (0.9.2)\n",
      "Requirement already satisfied: em_examples in c:\\users\\jsun29\\appdata\\roaming\\python\\python36\\site-packages (from -r ./requirements.txt (line 8)) (0.0.30)\n",
      "Requirement already satisfied: empymod in c:\\users\\jsun29\\appdata\\roaming\\python\\python36\\site-packages (from -r ./requirements.txt (line 9)) (1.7.3)\n",
      "Requirement already satisfied: deepdish in c:\\users\\jsun29\\appdata\\roaming\\python\\python36\\site-packages (from -r ./requirements.txt (line 10)) (0.3.6)\n",
      "Requirement already satisfied: pymatsolver>=0.1.2 in c:\\users\\jsun29\\appdata\\roaming\\python\\python36\\site-packages (from -r ./requirements.txt (line 11)) (0.1.2)\n",
      "Requirement already satisfied: six>=1.10 in c:\\program files\\anaconda3\\lib\\site-packages (from matplotlib->-r ./requirements.txt (line 3)) (1.10.0)\n",
      "Requirement already satisfied: python-dateutil in c:\\program files\\anaconda3\\lib\\site-packages (from matplotlib->-r ./requirements.txt (line 3)) (2.6.0)\n",
      "Requirement already satisfied: pytz in c:\\program files\\anaconda3\\lib\\site-packages (from matplotlib->-r ./requirements.txt (line 3)) (2017.2)\n",
      "Requirement already satisfied: cycler>=0.10 in c:\\program files\\anaconda3\\lib\\site-packages (from matplotlib->-r ./requirements.txt (line 3)) (0.10.0)\n",
      "Requirement already satisfied: pyparsing!=2.0.4,!=2.1.2,!=2.1.6,>=1.5.6 in c:\\program files\\anaconda3\\lib\\site-packages (from matplotlib->-r ./requirements.txt (line 3)) (2.1.4)\n",
      "Requirement already satisfied: ipython in c:\\program files\\anaconda3\\lib\\site-packages (from SimPEG->-r ./requirements.txt (line 7)) (5.3.0)\n",
      "Requirement already satisfied: cython in c:\\program files\\anaconda3\\lib\\site-packages (from SimPEG->-r ./requirements.txt (line 7)) (0.25.2)\n",
      "Requirement already satisfied: geoana>=0.0.4 in c:\\users\\jsun29\\appdata\\roaming\\python\\python36\\site-packages (from SimPEG->-r ./requirements.txt (line 7)) (0.0.5)\n",
      "Requirement already satisfied: vectormath>=0.2.0 in c:\\users\\jsun29\\appdata\\roaming\\python\\python36\\site-packages (from SimPEG->-r ./requirements.txt (line 7)) (0.2.0)\n",
      "Requirement already satisfied: discretize>=0.2.0 in c:\\users\\jsun29\\appdata\\roaming\\python\\python36\\site-packages (from SimPEG->-r ./requirements.txt (line 7)) (0.3.2)\n",
      "Requirement already satisfied: properties>=0.5.2 in c:\\users\\jsun29\\appdata\\roaming\\python\\python36\\site-packages (from SimPEG->-r ./requirements.txt (line 7)) (0.5.3)\n",
      "Requirement already satisfied: future in c:\\users\\jsun29\\appdata\\roaming\\python\\python36\\site-packages (from em_examples->-r ./requirements.txt (line 8)) (0.16.0)\n",
      "Requirement already satisfied: jupyter in c:\\program files\\anaconda3\\lib\\site-packages (from em_examples->-r ./requirements.txt (line 8)) (1.0.0)\n",
      "Requirement already satisfied: tables in c:\\program files\\anaconda3\\lib\\site-packages (from deepdish->-r ./requirements.txt (line 10)) (3.2.2)\n",
      "Requirement already satisfied: pyMKL>=0.0.3 in c:\\users\\jsun29\\appdata\\roaming\\python\\python36\\site-packages (from pymatsolver>=0.1.2->-r ./requirements.txt (line 11)) (0.0.3)\n",
      "Requirement already satisfied: utm in c:\\users\\jsun29\\appdata\\roaming\\python\\python36\\site-packages (from geoana>=0.0.4->SimPEG->-r ./requirements.txt (line 7)) (0.4.2)\n",
      "Requirement already satisfied: numexpr>=2.4 in c:\\program files\\anaconda3\\lib\\site-packages (from tables->deepdish->-r ./requirements.txt (line 10)) (2.6.2)\n"
     ]
    }
   ],
   "source": [
    "!pip install -r ./requirements.txt"
   ]
  },
  {
   "cell_type": "code",
   "execution_count": 2,
   "metadata": {
    "collapsed": true
   },
   "outputs": [],
   "source": [
    "from em_examples.MT import MT1D_app\n",
    "from IPython.display import display\n",
    "%matplotlib inline"
   ]
  },
  {
   "cell_type": "code",
   "execution_count": 3,
   "metadata": {
    "collapsed": true
   },
   "outputs": [],
   "source": [
    "from matplotlib import rcParams\n",
    "rcParams['font.size'] = 20"
   ]
  },
  {
   "cell_type": "markdown",
   "metadata": {},
   "source": [
    "# Magnetotelluric: Forward Modelling for 1 to 3 layers"
   ]
  },
  {
   "cell_type": "markdown",
   "metadata": {},
   "source": [
    "Here you can visualize Magnetotelluric (MT) response of a layered earth, up to 3 layers in this interactive notebook.\n",
    "- **fmin**: smallest measured frequency (Hz) \n",
    "- **fmax**: highest measured frequency (Hz)\n",
    "- **nbdata**: number of data points evenly spaced between **fmin** and **fmax** \n",
    "- **h** (i): thickness of the layer i. Put it to zero to remove one layer\n",
    "- **$\\rho_i$**: electrical resistivity of the layer i, in ohm-m\n",
    "- **$\\varepsilon_i$**: relative dielectric permittivity $\\varepsilon_r$ of the layer i\n",
    "- **$\\mu_i$**: relative magnetic permittivity $\\mu_r$ of the layer i\n",
    "- **Plot Envelope fields**: If activated (might be slow), plot the envelope of the E and H field for a given frequency (see fenvelope)\n",
    "- **F**: plot the envelope for of the waves at 'F' Hz"
   ]
  },
  {
   "cell_type": "code",
   "execution_count": 8,
   "metadata": {
    "scrolled": false
   },
   "outputs": [
    {
     "data": {
      "application/vnd.jupyter.widget-view+json": {
       "model_id": "c8ed4026381e4855bb90290504230b7d"
      }
     },
     "metadata": {},
     "output_type": "display_data"
    }
   ],
   "source": [
    "app = MT1D_app()\n",
    "display(app)"
   ]
  },
  {
   "cell_type": "markdown",
   "metadata": {},
   "source": [
    "<font color = red>**Task 1**</font>: Set $h_1$ = 500 $m$, $h_2$ = 1000 $m$, $\\rho_1$ = 100 $\\Omega \\cdot m$, $\\rho_2$ = <font color = blue>10</font> $\\Omega \\cdot m$, and $\\rho_3$ = 100 $\\Omega \\cdot m$. Keep everything else unchanged. <font color=red>**(10 points)**</font>\n",
    "- In order to detect the conductive layer (i.e., the second layer) whose depth is 500 $m$, the frequency should be lower than __ Hz? (HINT: Rememer skin depth $\\delta$ = $500 \\sqrt{\\frac{\\rho}{f}}$)."
   ]
  },
  {
   "cell_type": "code",
   "execution_count": null,
   "metadata": {
    "collapsed": true
   },
   "outputs": [],
   "source": [
    "(answer to Task 1:)\n"
   ]
  },
  {
   "cell_type": "markdown",
   "metadata": {
    "collapsed": true
   },
   "source": [
    "<font color = red>**Task 2**</font>: Use the same parameter setup. In the top left panel, at which frequency does the apparent resistivity start to decrease? How does this frequency compare with what you obtained above in Task 1? <font color=red>**(10 points)**</font>"
   ]
  },
  {
   "cell_type": "code",
   "execution_count": null,
   "metadata": {
    "collapsed": true
   },
   "outputs": [],
   "source": [
    "(answer to Task 2:)\n"
   ]
  },
  {
   "cell_type": "markdown",
   "metadata": {},
   "source": [
    "<font color = red>**Task 3**</font>: Again, use the same parameter setup. <font color=red>**(15 points)**</font>\n",
    "- Explain the behavior of the apparent resistivities at various frequencies using the concept of skin depth. \n",
    "- What is the lowest apparent resistivity? (Do not have to be accurate. A rough estimate based on the top left panel would be good.) How does the lowest apparent resistivity compare with the background resistivity, i.e., 100 $\\Omega \\cdot m$?\n",
    "- Explain the behavior of the phase. "
   ]
  },
  {
   "cell_type": "code",
   "execution_count": null,
   "metadata": {
    "collapsed": true
   },
   "outputs": [],
   "source": [
    "(answer to Task 3:)\n"
   ]
  },
  {
   "cell_type": "markdown",
   "metadata": {},
   "source": [
    "<font color = red>**Task 4**</font>: Set $h_1$ = 500 $m$, $h_2$ = 1000 $m$, $\\rho_1$ = 100 $\\Omega \\cdot m$, <font color = blue>1000</font> $\\Omega \\cdot m$ and $\\rho_3$ = 100 $\\Omega \\cdot m$. Keep everything else unchanged. <font color=red>**(15  points)**</font>\n",
    "- Explain the behaves at various frequencies using the concept of skin depth. \n",
    "- What is the largest apparent resistivity? (Do not have to be accurate. A rough estimate based on the top left panel would be good.) How does the largest apparent resistivity compare with the background resistivity, i.e., 100 $\\Omega \\cdot m$?\n",
    "- Explain the behavior of the phase. "
   ]
  },
  {
   "cell_type": "code",
   "execution_count": null,
   "metadata": {
    "collapsed": true
   },
   "outputs": [],
   "source": [
    "(answer to Task 4:)\n",
    "\n"
   ]
  },
  {
   "cell_type": "markdown",
   "metadata": {},
   "source": [
    "<font color = red>**Task 5**</font>: Based on the above two experiments, do you think the MT method is more sensitive to the existence of a resistor or a conductor? Why? <font color=red>**(10 points)**</font>"
   ]
  },
  {
   "cell_type": "code",
   "execution_count": null,
   "metadata": {
    "collapsed": true
   },
   "outputs": [],
   "source": [
    "(answer to Task 5:)\n",
    "\n"
   ]
  },
  {
   "cell_type": "markdown",
   "metadata": {},
   "source": [
    "<font color = red>**Task 6**</font>: Set $h_2$ = 100 $m$, $\\rho_1$ = 100 $\\Omega \\cdot m$, $\\rho_2$ = <font color = blue>10</font> $\\Omega \\cdot m$ and $\\rho_3$ = 100 $\\Omega \\cdot m$. Keep everything else unchanged. Now keep increasing $h_1$ from 50 $m$, all the way up to 3000 $m$. <font color=red>**(10 points)**</font>\n",
    "- Summarize your observations as the depth to the top of the conductive layer becomes larger than larger. (HINT: Summarize how the apparent resistivity and phase values change when the depth changes.)\n",
    "- Explain your observations. HINT: If you observe the apparent resistivity decreases (or increases), explain why."
   ]
  },
  {
   "cell_type": "markdown",
   "metadata": {
    "collapsed": true
   },
   "source": [
    "(answer to Task 6:)\n",
    "\n"
   ]
  },
  {
   "cell_type": "markdown",
   "metadata": {},
   "source": [
    "<font color = red>**Task 7**</font>: Set $h_1$ = 1000 $m$, $h_2$ = 100 $m$, $\\rho_1$ = 100 $\\Omega \\cdot m$, $\\rho_2$ = <font color = blue>10</font> $\\Omega \\cdot m$ and $\\rho_3$ = 100 $\\Omega \\cdot m$. Keep everything else unchanged. Now change $\\rho_2$ to <font color = blue>1</font> $\\Omega \\cdot m$. How do the apparent resistivity and phase change? Explain why. <font color=red>**(10 points)**</font>"
   ]
  },
  {
   "cell_type": "code",
   "execution_count": null,
   "metadata": {
    "collapsed": true
   },
   "outputs": [],
   "source": [
    "(answer to Task 7: )\n",
    "\n"
   ]
  },
  {
   "cell_type": "markdown",
   "metadata": {},
   "source": [
    "<font color = red>**Task 8**</font>: Set $h_1$ = 1000 $m$, $h_2$ = 100 $m$, $\\rho_1$ = 100 $\\Omega \\cdot m$, $\\rho_2$ = <font color = blue>1</font> $\\Omega \\cdot m$ and $\\rho_3$ = 100 $\\Omega \\cdot m$. Keep everything else unchanged. Observe the apparent resistivity and phase curves. Now set $\\rho_2$ = <font color = blue>5</font> $\\Omega \\cdot m$, and $h_2$ = 500 $m$. Compare the updated resistivity and phase curves with previous ones. Do you see much change? Explain the change you have observed.  <font color=red>**(10 points)**</font>"
   ]
  },
  {
   "cell_type": "markdown",
   "metadata": {},
   "source": [
    "(answer to Task 8:)\n"
   ]
  },
  {
   "cell_type": "markdown",
   "metadata": {
    "collapsed": true
   },
   "source": [
    "<font color = red>**Task 9**</font>: Set $h_1$ = 500 $m$, $h_2$ = 1000 $m$, $\\rho_1$ = 100 $\\Omega \\cdot m$, $\\rho_2$ = <font color = blue>10</font> $\\Omega \\cdot m$ and $\\rho_3$ = 100 $\\Omega \\cdot m$. Keep everything else unchanged.  <font color=red>**(10 points)**</font>\n",
    "- Set $\\mu_1$ = 1.0, $\\mu_2$ = 1.20, and $\\mu_3$ = 1.0 (i.e., we make the second layer magnetic). How does the apparent resistivity change (compared with the apparent resistivity obtained when $\\mu_1$ = $\\mu_2$ = $\\mu_3$ = 1.0)?\n",
    "- Set $\\mu_1$ = 1.0, $\\mu_2$ = 1.20, and $\\mu_3$ = 1.2 (i.e., we make both the second layer and the underlying halfspace magnetic). How does the apparent resistivity change (compared with the apparent resistivity you obtained from previous step?"
   ]
  },
  {
   "cell_type": "code",
   "execution_count": null,
   "metadata": {
    "collapsed": true
   },
   "outputs": [],
   "source": [
    "(answer to Task 9:)\n"
   ]
  },
  {
   "cell_type": "markdown",
   "metadata": {},
   "source": [
    "## Acknowledgments\n",
    "The apps that were used in this lab were developed by the [SimPEG](http://www.simpeg.xyz/) team. Most members are graduate students from [UBC-GIF](https://gif.eos.ubc.ca/about). I would like all SimPEG team members for their hard and awesome work!\n",
    "\n",
    "<img src = \"simpegteam.PNG\">"
   ]
  },
  {
   "cell_type": "code",
   "execution_count": null,
   "metadata": {
    "collapsed": true
   },
   "outputs": [],
   "source": []
  }
 ],
 "metadata": {
  "anaconda-cloud": {},
  "kernelspec": {
   "display_name": "Python 3",
   "language": "python",
   "name": "python3"
  },
  "language_info": {
   "codemirror_mode": {
    "name": "ipython",
    "version": 3
   },
   "file_extension": ".py",
   "mimetype": "text/x-python",
   "name": "python",
   "nbconvert_exporter": "python",
   "pygments_lexer": "ipython3",
   "version": "3.6.7"
  },
  "widgets": {
   "state": {
    "edab05a8629541f0ba6b6f254516fa0a": {
     "views": [
      {
       "cell_index": 3
      }
     ]
    }
   },
   "version": "1.2.0"
  }
 },
 "nbformat": 4,
 "nbformat_minor": 1
}
